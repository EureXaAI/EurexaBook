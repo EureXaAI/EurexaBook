{
  "nbformat": 4,
  "nbformat_minor": 0,
  "metadata": {
    "colab": {
      "provenance": [],
      "toc_visible": true,
      "gpuType": "T4",
      "authorship_tag": "ABX9TyPGAY/0ZIPA87vbjWK3t5Ua",
      "include_colab_link": true
    },
    "kernelspec": {
      "name": "python3",
      "display_name": "Python 3"
    },
    "language_info": {
      "name": "python"
    },
    "accelerator": "GPU"
  },
  "cells": [
    {
      "cell_type": "markdown",
      "metadata": {
        "id": "view-in-github",
        "colab_type": "text"
      },
      "source": [
        "<a href=\"https://colab.research.google.com/github/EureXaAI/EurexaBook/blob/main/playground/EureXa_Book_0331.ipynb\" target=\"_parent\"><img src=\"https://colab.research.google.com/assets/colab-badge.svg\" alt=\"Open In Colab\"/></a>"
      ]
    },
    {
      "cell_type": "code",
      "source": [
        "#@title 1.  安装依赖库\n",
        "# 安装 Mujoco: 物理引擎, 广泛用于 RL 和仿真研究\n",
        "!pip install mujoco\n",
        "# 安装 Mujoco Mjx: Mujoco 的 JAX 封装, 可微分, 结合 JAX 加速计算\n",
        "!pip install mujoco_mjx\n",
        "# 安装 Brax: Google 开发的独立物理引擎, 原生用 JAX 写的\n",
        "!pip install brax"
      ],
      "metadata": {
        "colab": {
          "base_uri": "https://localhost:8080/"
        },
        "id": "dQikJ3xP852Q",
        "outputId": "224af220-1394-48b2-8887-0aaa439d145a"
      },
      "execution_count": 1,
      "outputs": [
        {
          "output_type": "stream",
          "name": "stdout",
          "text": [
            "Collecting mujoco\n",
            "  Downloading mujoco-3.3.0-cp311-cp311-manylinux_2_17_x86_64.manylinux2014_x86_64.whl.metadata (44 kB)\n",
            "\u001b[?25l     \u001b[90m━━━━━━━━━━━━━━━━━━━━━━━━━━━━━━━━━━━━━━━━\u001b[0m \u001b[32m0.0/44.4 kB\u001b[0m \u001b[31m?\u001b[0m eta \u001b[36m-:--:--\u001b[0m\r\u001b[2K     \u001b[90m━━━━━━━━━━━━━━━━━━━━━━━━━━━━━━━━━━━━━━━━\u001b[0m \u001b[32m44.4/44.4 kB\u001b[0m \u001b[31m1.3 MB/s\u001b[0m eta \u001b[36m0:00:00\u001b[0m\n",
            "\u001b[?25hRequirement already satisfied: absl-py in /usr/local/lib/python3.11/dist-packages (from mujoco) (1.4.0)\n",
            "Requirement already satisfied: etils[epath] in /usr/local/lib/python3.11/dist-packages (from mujoco) (1.12.2)\n",
            "Collecting glfw (from mujoco)\n",
            "  Downloading glfw-2.8.0-py2.py27.py3.py30.py31.py32.py33.py34.py35.py36.py37.py38.p39.p310.p311.p312.p313-none-manylinux_2_28_x86_64.whl.metadata (5.4 kB)\n",
            "Requirement already satisfied: numpy in /usr/local/lib/python3.11/dist-packages (from mujoco) (2.0.2)\n",
            "Requirement already satisfied: pyopengl in /usr/local/lib/python3.11/dist-packages (from mujoco) (3.1.9)\n",
            "Requirement already satisfied: fsspec in /usr/local/lib/python3.11/dist-packages (from etils[epath]->mujoco) (2025.3.0)\n",
            "Requirement already satisfied: importlib_resources in /usr/local/lib/python3.11/dist-packages (from etils[epath]->mujoco) (6.5.2)\n",
            "Requirement already satisfied: typing_extensions in /usr/local/lib/python3.11/dist-packages (from etils[epath]->mujoco) (4.12.2)\n",
            "Requirement already satisfied: zipp in /usr/local/lib/python3.11/dist-packages (from etils[epath]->mujoco) (3.21.0)\n",
            "Downloading mujoco-3.3.0-cp311-cp311-manylinux_2_17_x86_64.manylinux2014_x86_64.whl (6.6 MB)\n",
            "\u001b[2K   \u001b[90m━━━━━━━━━━━━━━━━━━━━━━━━━━━━━━━━━━━━━━━━\u001b[0m \u001b[32m6.6/6.6 MB\u001b[0m \u001b[31m30.0 MB/s\u001b[0m eta \u001b[36m0:00:00\u001b[0m\n",
            "\u001b[?25hDownloading glfw-2.8.0-py2.py27.py3.py30.py31.py32.py33.py34.py35.py36.py37.py38.p39.p310.p311.p312.p313-none-manylinux_2_28_x86_64.whl (243 kB)\n",
            "\u001b[2K   \u001b[90m━━━━━━━━━━━━━━━━━━━━━━━━━━━━━━━━━━━━━━━━\u001b[0m \u001b[32m243.4/243.4 kB\u001b[0m \u001b[31m8.8 MB/s\u001b[0m eta \u001b[36m0:00:00\u001b[0m\n",
            "\u001b[?25hInstalling collected packages: glfw, mujoco\n",
            "Successfully installed glfw-2.8.0 mujoco-3.3.0\n",
            "Collecting mujoco_mjx\n",
            "  Downloading mujoco_mjx-3.3.0-py3-none-any.whl.metadata (3.3 kB)\n",
            "Requirement already satisfied: absl-py in /usr/local/lib/python3.11/dist-packages (from mujoco_mjx) (1.4.0)\n",
            "Requirement already satisfied: etils[epath] in /usr/local/lib/python3.11/dist-packages (from mujoco_mjx) (1.12.2)\n",
            "Requirement already satisfied: jax in /usr/local/lib/python3.11/dist-packages (from mujoco_mjx) (0.5.2)\n",
            "Requirement already satisfied: jaxlib in /usr/local/lib/python3.11/dist-packages (from mujoco_mjx) (0.5.1)\n",
            "Requirement already satisfied: mujoco>=3.3.0.dev0 in /usr/local/lib/python3.11/dist-packages (from mujoco_mjx) (3.3.0)\n",
            "Requirement already satisfied: scipy in /usr/local/lib/python3.11/dist-packages (from mujoco_mjx) (1.14.1)\n",
            "Collecting trimesh (from mujoco_mjx)\n",
            "  Downloading trimesh-4.6.6-py3-none-any.whl.metadata (18 kB)\n",
            "Requirement already satisfied: glfw in /usr/local/lib/python3.11/dist-packages (from mujoco>=3.3.0.dev0->mujoco_mjx) (2.8.0)\n",
            "Requirement already satisfied: numpy in /usr/local/lib/python3.11/dist-packages (from mujoco>=3.3.0.dev0->mujoco_mjx) (2.0.2)\n",
            "Requirement already satisfied: pyopengl in /usr/local/lib/python3.11/dist-packages (from mujoco>=3.3.0.dev0->mujoco_mjx) (3.1.9)\n",
            "Requirement already satisfied: fsspec in /usr/local/lib/python3.11/dist-packages (from etils[epath]->mujoco_mjx) (2025.3.0)\n",
            "Requirement already satisfied: importlib_resources in /usr/local/lib/python3.11/dist-packages (from etils[epath]->mujoco_mjx) (6.5.2)\n",
            "Requirement already satisfied: typing_extensions in /usr/local/lib/python3.11/dist-packages (from etils[epath]->mujoco_mjx) (4.12.2)\n",
            "Requirement already satisfied: zipp in /usr/local/lib/python3.11/dist-packages (from etils[epath]->mujoco_mjx) (3.21.0)\n",
            "Requirement already satisfied: ml_dtypes>=0.4.0 in /usr/local/lib/python3.11/dist-packages (from jax->mujoco_mjx) (0.4.1)\n",
            "Requirement already satisfied: opt_einsum in /usr/local/lib/python3.11/dist-packages (from jax->mujoco_mjx) (3.4.0)\n",
            "Downloading mujoco_mjx-3.3.0-py3-none-any.whl (6.7 MB)\n",
            "\u001b[2K   \u001b[90m━━━━━━━━━━━━━━━━━━━━━━━━━━━━━━━━━━━━━━━━\u001b[0m \u001b[32m6.7/6.7 MB\u001b[0m \u001b[31m56.5 MB/s\u001b[0m eta \u001b[36m0:00:00\u001b[0m\n",
            "\u001b[?25hDownloading trimesh-4.6.6-py3-none-any.whl (709 kB)\n",
            "\u001b[2K   \u001b[90m━━━━━━━━━━━━━━━━━━━━━━━━━━━━━━━━━━━━━━━━\u001b[0m \u001b[32m709.3/709.3 kB\u001b[0m \u001b[31m38.2 MB/s\u001b[0m eta \u001b[36m0:00:00\u001b[0m\n",
            "\u001b[?25hInstalling collected packages: trimesh, mujoco_mjx\n",
            "Successfully installed mujoco_mjx-3.3.0 trimesh-4.6.6\n",
            "Collecting brax\n",
            "  Downloading brax-0.12.1-py3-none-any.whl.metadata (7.7 kB)\n",
            "Requirement already satisfied: absl-py in /usr/local/lib/python3.11/dist-packages (from brax) (1.4.0)\n",
            "Collecting dm_env (from brax)\n",
            "  Downloading dm_env-1.6-py3-none-any.whl.metadata (966 bytes)\n",
            "Requirement already satisfied: etils in /usr/local/lib/python3.11/dist-packages (from brax) (1.12.2)\n",
            "Requirement already satisfied: flask in /usr/local/lib/python3.11/dist-packages (from brax) (3.1.0)\n",
            "Collecting flask_cors (from brax)\n",
            "  Downloading flask_cors-5.0.1-py3-none-any.whl.metadata (961 bytes)\n",
            "Requirement already satisfied: flax in /usr/local/lib/python3.11/dist-packages (from brax) (0.10.4)\n",
            "Requirement already satisfied: grpcio in /usr/local/lib/python3.11/dist-packages (from brax) (1.71.0)\n",
            "Requirement already satisfied: gym in /usr/local/lib/python3.11/dist-packages (from brax) (0.25.2)\n",
            "Requirement already satisfied: jax>=0.4.6 in /usr/local/lib/python3.11/dist-packages (from brax) (0.5.2)\n",
            "Requirement already satisfied: jaxlib>=0.4.6 in /usr/local/lib/python3.11/dist-packages (from brax) (0.5.1)\n",
            "Collecting jaxopt (from brax)\n",
            "  Downloading jaxopt-0.8.3-py3-none-any.whl.metadata (2.6 kB)\n",
            "Requirement already satisfied: jinja2 in /usr/local/lib/python3.11/dist-packages (from brax) (3.1.6)\n",
            "Collecting ml_collections (from brax)\n",
            "  Downloading ml_collections-1.0.0-py3-none-any.whl.metadata (22 kB)\n",
            "Requirement already satisfied: mujoco in /usr/local/lib/python3.11/dist-packages (from brax) (3.3.0)\n",
            "Requirement already satisfied: mujoco-mjx in /usr/local/lib/python3.11/dist-packages (from brax) (3.3.0)\n",
            "Requirement already satisfied: numpy in /usr/local/lib/python3.11/dist-packages (from brax) (2.0.2)\n",
            "Requirement already satisfied: optax in /usr/local/lib/python3.11/dist-packages (from brax) (0.2.4)\n",
            "Requirement already satisfied: orbax-checkpoint in /usr/local/lib/python3.11/dist-packages (from brax) (0.11.10)\n",
            "Requirement already satisfied: Pillow in /usr/local/lib/python3.11/dist-packages (from brax) (11.1.0)\n",
            "Collecting pytinyrenderer (from brax)\n",
            "  Downloading pytinyrenderer-0.0.14-cp311-cp311-manylinux_2_17_x86_64.manylinux2014_x86_64.whl.metadata (1.2 kB)\n",
            "Requirement already satisfied: scipy in /usr/local/lib/python3.11/dist-packages (from brax) (1.14.1)\n",
            "Collecting tensorboardX (from brax)\n",
            "  Downloading tensorboardX-2.6.2.2-py2.py3-none-any.whl.metadata (5.8 kB)\n",
            "Requirement already satisfied: trimesh in /usr/local/lib/python3.11/dist-packages (from brax) (4.6.6)\n",
            "Requirement already satisfied: typing-extensions in /usr/local/lib/python3.11/dist-packages (from brax) (4.12.2)\n",
            "Requirement already satisfied: ml_dtypes>=0.4.0 in /usr/local/lib/python3.11/dist-packages (from jax>=0.4.6->brax) (0.4.1)\n",
            "Requirement already satisfied: opt_einsum in /usr/local/lib/python3.11/dist-packages (from jax>=0.4.6->brax) (3.4.0)\n",
            "Requirement already satisfied: dm-tree in /usr/local/lib/python3.11/dist-packages (from dm_env->brax) (0.1.9)\n",
            "Requirement already satisfied: Werkzeug>=3.1 in /usr/local/lib/python3.11/dist-packages (from flask->brax) (3.1.3)\n",
            "Requirement already satisfied: itsdangerous>=2.2 in /usr/local/lib/python3.11/dist-packages (from flask->brax) (2.2.0)\n",
            "Requirement already satisfied: click>=8.1.3 in /usr/local/lib/python3.11/dist-packages (from flask->brax) (8.1.8)\n",
            "Requirement already satisfied: blinker>=1.9 in /usr/local/lib/python3.11/dist-packages (from flask->brax) (1.9.0)\n",
            "Requirement already satisfied: MarkupSafe>=2.0 in /usr/local/lib/python3.11/dist-packages (from jinja2->brax) (3.0.2)\n",
            "Requirement already satisfied: msgpack in /usr/local/lib/python3.11/dist-packages (from flax->brax) (1.1.0)\n",
            "Requirement already satisfied: tensorstore in /usr/local/lib/python3.11/dist-packages (from flax->brax) (0.1.72)\n",
            "Requirement already satisfied: rich>=11.1 in /usr/local/lib/python3.11/dist-packages (from flax->brax) (13.9.4)\n",
            "Requirement already satisfied: PyYAML>=5.4.1 in /usr/local/lib/python3.11/dist-packages (from flax->brax) (6.0.2)\n",
            "Requirement already satisfied: treescope>=0.1.7 in /usr/local/lib/python3.11/dist-packages (from flax->brax) (0.1.9)\n",
            "Requirement already satisfied: cloudpickle>=1.2.0 in /usr/local/lib/python3.11/dist-packages (from gym->brax) (3.1.1)\n",
            "Requirement already satisfied: gym_notices>=0.0.4 in /usr/local/lib/python3.11/dist-packages (from gym->brax) (0.0.8)\n",
            "Requirement already satisfied: six in /usr/local/lib/python3.11/dist-packages (from ml_collections->brax) (1.17.0)\n",
            "Requirement already satisfied: glfw in /usr/local/lib/python3.11/dist-packages (from mujoco->brax) (2.8.0)\n",
            "Requirement already satisfied: pyopengl in /usr/local/lib/python3.11/dist-packages (from mujoco->brax) (3.1.9)\n",
            "Requirement already satisfied: chex>=0.1.87 in /usr/local/lib/python3.11/dist-packages (from optax->brax) (0.1.89)\n",
            "Requirement already satisfied: nest_asyncio in /usr/local/lib/python3.11/dist-packages (from orbax-checkpoint->brax) (1.6.0)\n",
            "Requirement already satisfied: protobuf in /usr/local/lib/python3.11/dist-packages (from orbax-checkpoint->brax) (5.29.4)\n",
            "Requirement already satisfied: humanize in /usr/local/lib/python3.11/dist-packages (from orbax-checkpoint->brax) (4.12.1)\n",
            "Requirement already satisfied: simplejson>=3.16.0 in /usr/local/lib/python3.11/dist-packages (from orbax-checkpoint->brax) (3.20.1)\n",
            "Requirement already satisfied: packaging in /usr/local/lib/python3.11/dist-packages (from tensorboardX->brax) (24.2)\n",
            "Requirement already satisfied: toolz>=0.9.0 in /usr/local/lib/python3.11/dist-packages (from chex>=0.1.87->optax->brax) (0.12.1)\n",
            "Requirement already satisfied: markdown-it-py>=2.2.0 in /usr/local/lib/python3.11/dist-packages (from rich>=11.1->flax->brax) (3.0.0)\n",
            "Requirement already satisfied: pygments<3.0.0,>=2.13.0 in /usr/local/lib/python3.11/dist-packages (from rich>=11.1->flax->brax) (2.18.0)\n",
            "Requirement already satisfied: attrs>=18.2.0 in /usr/local/lib/python3.11/dist-packages (from dm-tree->dm_env->brax) (25.3.0)\n",
            "Requirement already satisfied: wrapt>=1.11.2 in /usr/local/lib/python3.11/dist-packages (from dm-tree->dm_env->brax) (1.17.2)\n",
            "Requirement already satisfied: fsspec in /usr/local/lib/python3.11/dist-packages (from etils[epath,epy]->orbax-checkpoint->brax) (2025.3.0)\n",
            "Requirement already satisfied: importlib_resources in /usr/local/lib/python3.11/dist-packages (from etils[epath,epy]->orbax-checkpoint->brax) (6.5.2)\n",
            "Requirement already satisfied: zipp in /usr/local/lib/python3.11/dist-packages (from etils[epath,epy]->orbax-checkpoint->brax) (3.21.0)\n",
            "Requirement already satisfied: mdurl~=0.1 in /usr/local/lib/python3.11/dist-packages (from markdown-it-py>=2.2.0->rich>=11.1->flax->brax) (0.1.2)\n",
            "Downloading brax-0.12.1-py3-none-any.whl (1.0 MB)\n",
            "\u001b[2K   \u001b[90m━━━━━━━━━━━━━━━━━━━━━━━━━━━━━━━━━━━━━━━━\u001b[0m \u001b[32m1.0/1.0 MB\u001b[0m \u001b[31m16.8 MB/s\u001b[0m eta \u001b[36m0:00:00\u001b[0m\n",
            "\u001b[?25hDownloading dm_env-1.6-py3-none-any.whl (26 kB)\n",
            "Downloading flask_cors-5.0.1-py3-none-any.whl (11 kB)\n",
            "Downloading jaxopt-0.8.3-py3-none-any.whl (172 kB)\n",
            "\u001b[2K   \u001b[90m━━━━━━━━━━━━━━━━━━━━━━━━━━━━━━━━━━━━━━━━\u001b[0m \u001b[32m172.3/172.3 kB\u001b[0m \u001b[31m12.9 MB/s\u001b[0m eta \u001b[36m0:00:00\u001b[0m\n",
            "\u001b[?25hDownloading ml_collections-1.0.0-py3-none-any.whl (76 kB)\n",
            "\u001b[2K   \u001b[90m━━━━━━━━━━━━━━━━━━━━━━━━━━━━━━━━━━━━━━━━\u001b[0m \u001b[32m76.5/76.5 kB\u001b[0m \u001b[31m6.0 MB/s\u001b[0m eta \u001b[36m0:00:00\u001b[0m\n",
            "\u001b[?25hDownloading pytinyrenderer-0.0.14-cp311-cp311-manylinux_2_17_x86_64.manylinux2014_x86_64.whl (1.9 MB)\n",
            "\u001b[2K   \u001b[90m━━━━━━━━━━━━━━━━━━━━━━━━━━━━━━━━━━━━━━━━\u001b[0m \u001b[32m1.9/1.9 MB\u001b[0m \u001b[31m53.9 MB/s\u001b[0m eta \u001b[36m0:00:00\u001b[0m\n",
            "\u001b[?25hDownloading tensorboardX-2.6.2.2-py2.py3-none-any.whl (101 kB)\n",
            "\u001b[2K   \u001b[90m━━━━━━━━━━━━━━━━━━━━━━━━━━━━━━━━━━━━━━━━\u001b[0m \u001b[32m101.7/101.7 kB\u001b[0m \u001b[31m8.7 MB/s\u001b[0m eta \u001b[36m0:00:00\u001b[0m\n",
            "\u001b[?25hInstalling collected packages: pytinyrenderer, tensorboardX, ml_collections, dm_env, flask_cors, jaxopt, brax\n",
            "Successfully installed brax-0.12.1 dm_env-1.6 flask_cors-5.0.1 jaxopt-0.8.3 ml_collections-1.0.0 pytinyrenderer-0.0.14 tensorboardX-2.6.2.2\n"
          ]
        }
      ]
    },
    {
      "cell_type": "code",
      "source": [
        "#@title 2. 检测安装结果\n",
        "# 从 Colab 中引入文件上传功能（备用）\n",
        "from google.colab import files\n",
        "\n",
        "# 引入用于路径和命令行操作的模块\n",
        "import distutils.util\n",
        "import os\n",
        "import subprocess\n",
        "\n",
        "# 检查是否能够访问 GPU（通过 nvidia-smi 命令）\n",
        "# 如果失败，就提示用户需要启用 Colab 的 GPU 运行时\n",
        "if subprocess.run('nvidia-smi').returncode:\n",
        "  raise RuntimeError(\n",
        "      '无法与 GPU 通信。请确保你使用的是启用了 GPU 的 Colab 运行时。\\n'\n",
        "      '点击上方菜单「运行时」->「更改运行时类型」，并选择 GPU。')\n",
        "\n",
        "# 添加一个 ICD 配置，让 glvnd 能找到 Nvidia 的 EGL 驱动\n",
        "# Colab 虽然有 GPU，但驱动不是通过 APT 安装的，ICD 文件默认缺失\n",
        "# 这段是手动补上该配置文件（详见 NVIDIA 文档）\n",
        "NVIDIA_ICD_CONFIG_PATH = '/usr/share/glvnd/egl_vendor.d/10_nvidia.json'\n",
        "if not os.path.exists(NVIDIA_ICD_CONFIG_PATH):\n",
        "  with open(NVIDIA_ICD_CONFIG_PATH, 'w') as f:\n",
        "    f.write(\"\"\"{\n",
        "    \"file_format_version\" : \"1.0.0\",\n",
        "    \"ICD\" : {\n",
        "        \"library_path\" : \"libEGL_nvidia.so.0\"\n",
        "    }\n",
        "}\n",
        "\"\"\")\n",
        "\n",
        "# 设置环境变量，告诉 MuJoCo 使用 GPU EGL (headless) 渲染\n",
        "print('Setting environment variable to use GPU rendering:')\n",
        "%env MUJOCO_GL=egl\n",
        "\n",
        "# 尝试导入 MuJoCo 并用空 XML 检查安装是否成功\n",
        "# 如果失败，抛出错误并提醒检查运行时设置或安装输出信息\n",
        "try:\n",
        "  print('检查 MuJoCo 安装是否成功:')\n",
        "  import mujoco\n",
        "  mujoco.MjModel.from_xml_string('<mujoco/>')\n",
        "except Exception as e:\n",
        "  raise e from RuntimeError(\n",
        "      'MuJoCo 安装出错。请检查上方 shell 输出信息。\\n'\n",
        "      '若使用 Colab，请确保启用了 GPU。\\n'\n",
        "      '点击「运行时」->「更改运行时类型」，启用 GPU。')\n",
        "\n",
        "print('MuJoCo 安装成功！')\n",
        "\n",
        "# 设置 XLA 编译器参数，启用 Triton GEMM 以提升训练速度（对某些 GPU 有 30% 提升）\n",
        "xla_flags = os.environ.get('XLA_FLAGS', '')\n",
        "xla_flags += ' --xla_gpu_triton_gemm_any=True'\n",
        "os.environ['XLA_FLAGS'] = xla_flags"
      ],
      "metadata": {
        "colab": {
          "base_uri": "https://localhost:8080/"
        },
        "id": "571aydaqvWeU",
        "outputId": "3cb23a8f-a75d-491f-d524-fa6e31ad08c9"
      },
      "execution_count": 2,
      "outputs": [
        {
          "output_type": "stream",
          "name": "stdout",
          "text": [
            "Setting environment variable to use GPU rendering:\n",
            "env: MUJOCO_GL=egl\n",
            "检查 MuJoCo 安装是否成功:\n",
            "MuJoCo 安装成功！\n"
          ]
        }
      ]
    },
    {
      "cell_type": "code",
      "source": [
        "#@title 3. 导入用于绘图和图像生成的必要包\n",
        "# 导入 json 模块，用于处理 JSON 格式的数据（如保存结果或加载配置）\n",
        "import json\n",
        "\n",
        "# 导入 itertools，提供高效的迭代器构造工具（如排列组合）\n",
        "import itertools\n",
        "\n",
        "# 导入 time 模块，用于计时或设置延时（sleep 等）\n",
        "import time\n",
        "\n",
        "# 从 typing 中导入常用的类型注解工具\n",
        "# Callable（函数类型），List、NamedTuple（结构体），Optional（可空类型），Union（联合类型）\n",
        "from typing import Callable, List, NamedTuple, Optional, Union\n",
        "\n",
        "# 导入 numpy，用于数组、矩阵和数值计算\n",
        "import numpy as np\n",
        "\n",
        "\n",
        "# ========== 图形绘制和视频支持 ==========\n",
        "\n",
        "# 打印提示，表示将要安装 mediapy（用于渲染视频）\n",
        "print(\"Installing mediapy:\")\n",
        "\n",
        "# 检查 ffmpeg 是否已安装（ffmpeg 用于编码视频）\n",
        "# 如果未安装，则使用 apt 自动安装 ffmpeg（适用于 Colab）\n",
        "!command -v ffmpeg >/dev/null || (apt update && apt install -y ffmpeg)\n",
        "\n",
        "# 安装 mediapy（用于播放和保存视频/图像）\n",
        "!pip install -q mediapy\n",
        "\n",
        "# 导入 mediapy 库（可用于显示仿真结果视频）\n",
        "import mediapy as media\n",
        "\n",
        "# 导入 matplotlib 的绘图库，用于绘图（如 reward 曲线）\n",
        "import matplotlib.pyplot as plt\n",
        "\n",
        "\n",
        "# ========== numpy 显示优化 ==========\n",
        "\n",
        "# 设置 numpy 的打印格式：\n",
        "# precision=3：小数保留 3 位；\n",
        "# suppress=True：关闭科学计数法；\n",
        "# linewidth=100：每行最多显示 100 字符，防止换行太多\n",
        "np.set_printoptions(precision=3, suppress=True, linewidth=100)"
      ],
      "metadata": {
        "colab": {
          "base_uri": "https://localhost:8080/"
        },
        "id": "etXCXJfZwdAY",
        "outputId": "967d8d44-febc-4c3e-d236-ea7d7096a147"
      },
      "execution_count": 3,
      "outputs": [
        {
          "output_type": "stream",
          "name": "stdout",
          "text": [
            "Installing mediapy:\n",
            "\u001b[2K   \u001b[90m━━━━━━━━━━━━━━━━━━━━━━━━━━━━━━━━━━━━━━━━\u001b[0m \u001b[32m1.6/1.6 MB\u001b[0m \u001b[31m20.1 MB/s\u001b[0m eta \u001b[36m0:00:00\u001b[0m\n",
            "\u001b[?25h"
          ]
        }
      ]
    },
    {
      "cell_type": "code",
      "source": [
        "#@title 4. 导入 Mujoco, Mujoco Mjx, Brax 所需包\n",
        "# 导入 datetime，用于记录训练/评估过程中的时间戳\n",
        "from datetime import datetime\n",
        "\n",
        "# functools 提供函数工具，比如偏函数（partial）、缓存（lru_cache）等\n",
        "import functools\n",
        "\n",
        "# OS 模块，用于操作系统级别的操作，如路径管理、环境变量等\n",
        "import os\n",
        "\n",
        "# 类型注解工具，用于标注函数参数或变量的类型，提高代码可读性和类型检查\n",
        "from typing import Any, Dict, Sequence, Tuple, Union\n",
        "\n",
        "\n",
        "# ========== Brax 核心物理模拟模块 ==========\n",
        "\n",
        "# 导入 Brax 的基础模块，包含基础数据结构和方法\n",
        "from brax import base\n",
        "\n",
        "# 导入强化学习环境集合（如 humanoid, ant 等）\n",
        "from brax import envs\n",
        "\n",
        "# 导入 Brax 提供的数学工具（如四元数运算、旋转等）\n",
        "from brax import math\n",
        "\n",
        "# 从 brax.base 中分别导入三大基础类：\n",
        "# Base：物理模型的基础结构（包含物体、关节等）\n",
        "# Motion：表示速度、加速度等动态信息\n",
        "# Transform：表示位置与方向（位姿）\n",
        "from brax.base import Base, Motion, Transform\n",
        "\n",
        "# PipelineState：用于表示 Pipeline 模拟器的状态结构（位置、速度等）\n",
        "from brax.base import State as PipelineState\n",
        "\n",
        "# 导入基础环境接口类：\n",
        "# Env：通用环境接口；\n",
        "# PipelineEnv：基于物理模拟管线的环境；\n",
        "# State：用于环境交互中的状态表示\n",
        "from brax.envs.base import Env, PipelineEnv, State\n",
        "\n",
        "# brax.io 模块提供输入输出功能：\n",
        "# html：将环境状态渲染为 HTML 格式（可视化）；\n",
        "# mjcf：读取 MuJoCo 格式的模型文件；\n",
        "# model：解析模型结构\n",
        "from brax.io import html, mjcf, model\n",
        "\n",
        "# MjxState：MJX 模拟（JAX 版 MuJoCo）中的状态结构\n",
        "from brax.mjx.base import State as MjxState\n",
        "\n",
        "\n",
        "# ========== PPO 和 SAC 算法模块 ==========\n",
        "\n",
        "# 导入 PPO 策略网络构建模块\n",
        "from brax.training.agents.ppo import networks as ppo_networks\n",
        "\n",
        "# 导入 PPO 强化学习训练接口\n",
        "from brax.training.agents.ppo import train as ppo\n",
        "\n",
        "# 导入 SAC 策略网络构建模块\n",
        "from brax.training.agents.sac import networks as sac_networks\n",
        "\n",
        "# 导入 SAC 强化学习训练接口\n",
        "from brax.training.agents.sac import train as sac\n",
        "\n",
        "\n",
        "# ========== 工具类库和可视化相关 ==========\n",
        "\n",
        "# etils.epath：Google 的路径管理库（功能类似 pathlib）\n",
        "from etils import epath\n",
        "\n",
        "# flax 是 JAX 生态中的神经网络工具包，struct 用于结构化状态定义\n",
        "from flax import struct\n",
        "\n",
        "# orbax 是模型保存与加载工具，orbax_utils 是其辅助工具集\n",
        "from flax.training import orbax_utils\n",
        "\n",
        "# IPython 的 HTML 显示模块（在 notebook 中插入交互式视频等）\n",
        "from IPython.display import HTML, clear_output\n",
        "\n",
        "# 导入 JAX 核心模块\n",
        "import jax\n",
        "\n",
        "# JAX 中的 numpy 子模块（支持自动微分与加速）\n",
        "from jax import numpy as jp\n",
        "\n",
        "# matplotlib 的绘图库（用于 reward 曲线等）\n",
        "from matplotlib import pyplot as plt\n",
        "\n",
        "# mediapy 用于展示视频、保存渲染结果等\n",
        "import mediapy as media\n",
        "\n",
        "# ml_collections.config_dict：用于构建灵活的配置字典（如超参数）\n",
        "from ml_collections import config_dict\n",
        "\n",
        "\n",
        "# ========== MuJoCo 模拟器模块 ==========\n",
        "\n",
        "# 导入原生 MuJoCo 引擎（C 语言实现的物理引擎）\n",
        "import mujoco\n",
        "\n",
        "# 从 MuJoCo 导入 MJX：MuJoCo 的 JAX 可微版本（mujoco_mjx）\n",
        "from mujoco import mjx\n",
        "\n",
        "\n",
        "# ========== 数值计算基础模块 ==========\n",
        "\n",
        "# numpy 是通用数值计算库（与 jax.numpy 类似，但不支持 GPU 加速）\n",
        "import numpy as np\n",
        "\n",
        "# 导入 orbax 的 checkpoint 模块，用于保存和恢复模型权重\n",
        "from orbax import checkpoint as ocp"
      ],
      "metadata": {
        "id": "Xu8UTClbwx4i"
      },
      "execution_count": 4,
      "outputs": []
    },
    {
      "cell_type": "code",
      "source": [
        "#@title 5. 安装 MuJoCo Playground\n",
        "# MuJoCo Playground 是一个基于 MuJoCo MJX 构建的, 支持 GPU 加速的强化学习环境套件\n",
        "!pip install playground"
      ],
      "metadata": {
        "colab": {
          "base_uri": "https://localhost:8080/"
        },
        "id": "UedD5YUz-wzB",
        "outputId": "dca85255-e247-4109-8c03-bf96c634c0a2"
      },
      "execution_count": 5,
      "outputs": [
        {
          "output_type": "stream",
          "name": "stdout",
          "text": [
            "Collecting playground\n",
            "  Downloading playground-0.0.4-py3-none-any.whl.metadata (7.5 kB)\n",
            "Requirement already satisfied: brax>=0.12.1 in /usr/local/lib/python3.11/dist-packages (from playground) (0.12.1)\n",
            "Requirement already satisfied: etils in /usr/local/lib/python3.11/dist-packages (from playground) (1.12.2)\n",
            "Requirement already satisfied: flax in /usr/local/lib/python3.11/dist-packages (from playground) (0.10.4)\n",
            "Requirement already satisfied: jax in /usr/local/lib/python3.11/dist-packages (from playground) (0.5.2)\n",
            "Requirement already satisfied: lxml in /usr/local/lib/python3.11/dist-packages (from playground) (5.3.1)\n",
            "Requirement already satisfied: ml-collections in /usr/local/lib/python3.11/dist-packages (from playground) (1.0.0)\n",
            "Requirement already satisfied: mujoco-mjx>=3.2.7 in /usr/local/lib/python3.11/dist-packages (from playground) (3.3.0)\n",
            "Requirement already satisfied: mujoco>=3.2.7 in /usr/local/lib/python3.11/dist-packages (from playground) (3.3.0)\n",
            "Requirement already satisfied: tqdm in /usr/local/lib/python3.11/dist-packages (from playground) (4.67.1)\n",
            "Requirement already satisfied: absl-py in /usr/local/lib/python3.11/dist-packages (from brax>=0.12.1->playground) (1.4.0)\n",
            "Requirement already satisfied: dm_env in /usr/local/lib/python3.11/dist-packages (from brax>=0.12.1->playground) (1.6)\n",
            "Requirement already satisfied: flask in /usr/local/lib/python3.11/dist-packages (from brax>=0.12.1->playground) (3.1.0)\n",
            "Requirement already satisfied: flask_cors in /usr/local/lib/python3.11/dist-packages (from brax>=0.12.1->playground) (5.0.1)\n",
            "Requirement already satisfied: grpcio in /usr/local/lib/python3.11/dist-packages (from brax>=0.12.1->playground) (1.71.0)\n",
            "Requirement already satisfied: gym in /usr/local/lib/python3.11/dist-packages (from brax>=0.12.1->playground) (0.25.2)\n",
            "Requirement already satisfied: jaxlib>=0.4.6 in /usr/local/lib/python3.11/dist-packages (from brax>=0.12.1->playground) (0.5.1)\n",
            "Requirement already satisfied: jaxopt in /usr/local/lib/python3.11/dist-packages (from brax>=0.12.1->playground) (0.8.3)\n",
            "Requirement already satisfied: jinja2 in /usr/local/lib/python3.11/dist-packages (from brax>=0.12.1->playground) (3.1.6)\n",
            "Requirement already satisfied: numpy in /usr/local/lib/python3.11/dist-packages (from brax>=0.12.1->playground) (2.0.2)\n",
            "Requirement already satisfied: optax in /usr/local/lib/python3.11/dist-packages (from brax>=0.12.1->playground) (0.2.4)\n",
            "Requirement already satisfied: orbax-checkpoint in /usr/local/lib/python3.11/dist-packages (from brax>=0.12.1->playground) (0.11.10)\n",
            "Requirement already satisfied: Pillow in /usr/local/lib/python3.11/dist-packages (from brax>=0.12.1->playground) (11.1.0)\n",
            "Requirement already satisfied: pytinyrenderer in /usr/local/lib/python3.11/dist-packages (from brax>=0.12.1->playground) (0.0.14)\n",
            "Requirement already satisfied: scipy in /usr/local/lib/python3.11/dist-packages (from brax>=0.12.1->playground) (1.14.1)\n",
            "Requirement already satisfied: tensorboardX in /usr/local/lib/python3.11/dist-packages (from brax>=0.12.1->playground) (2.6.2.2)\n",
            "Requirement already satisfied: trimesh in /usr/local/lib/python3.11/dist-packages (from brax>=0.12.1->playground) (4.6.6)\n",
            "Requirement already satisfied: typing-extensions in /usr/local/lib/python3.11/dist-packages (from brax>=0.12.1->playground) (4.12.2)\n",
            "Requirement already satisfied: ml_dtypes>=0.4.0 in /usr/local/lib/python3.11/dist-packages (from jax->playground) (0.4.1)\n",
            "Requirement already satisfied: opt_einsum in /usr/local/lib/python3.11/dist-packages (from jax->playground) (3.4.0)\n",
            "Requirement already satisfied: glfw in /usr/local/lib/python3.11/dist-packages (from mujoco>=3.2.7->playground) (2.8.0)\n",
            "Requirement already satisfied: pyopengl in /usr/local/lib/python3.11/dist-packages (from mujoco>=3.2.7->playground) (3.1.9)\n",
            "Requirement already satisfied: msgpack in /usr/local/lib/python3.11/dist-packages (from flax->playground) (1.1.0)\n",
            "Requirement already satisfied: tensorstore in /usr/local/lib/python3.11/dist-packages (from flax->playground) (0.1.72)\n",
            "Requirement already satisfied: rich>=11.1 in /usr/local/lib/python3.11/dist-packages (from flax->playground) (13.9.4)\n",
            "Requirement already satisfied: PyYAML>=5.4.1 in /usr/local/lib/python3.11/dist-packages (from flax->playground) (6.0.2)\n",
            "Requirement already satisfied: treescope>=0.1.7 in /usr/local/lib/python3.11/dist-packages (from flax->playground) (0.1.9)\n",
            "Requirement already satisfied: six in /usr/local/lib/python3.11/dist-packages (from ml-collections->playground) (1.17.0)\n",
            "Requirement already satisfied: markdown-it-py>=2.2.0 in /usr/local/lib/python3.11/dist-packages (from rich>=11.1->flax->playground) (3.0.0)\n",
            "Requirement already satisfied: pygments<3.0.0,>=2.13.0 in /usr/local/lib/python3.11/dist-packages (from rich>=11.1->flax->playground) (2.18.0)\n",
            "Requirement already satisfied: dm-tree in /usr/local/lib/python3.11/dist-packages (from dm_env->brax>=0.12.1->playground) (0.1.9)\n",
            "Requirement already satisfied: fsspec in /usr/local/lib/python3.11/dist-packages (from etils[epath]->mujoco>=3.2.7->playground) (2025.3.0)\n",
            "Requirement already satisfied: importlib_resources in /usr/local/lib/python3.11/dist-packages (from etils[epath]->mujoco>=3.2.7->playground) (6.5.2)\n",
            "Requirement already satisfied: zipp in /usr/local/lib/python3.11/dist-packages (from etils[epath]->mujoco>=3.2.7->playground) (3.21.0)\n",
            "Requirement already satisfied: Werkzeug>=3.1 in /usr/local/lib/python3.11/dist-packages (from flask->brax>=0.12.1->playground) (3.1.3)\n",
            "Requirement already satisfied: itsdangerous>=2.2 in /usr/local/lib/python3.11/dist-packages (from flask->brax>=0.12.1->playground) (2.2.0)\n",
            "Requirement already satisfied: click>=8.1.3 in /usr/local/lib/python3.11/dist-packages (from flask->brax>=0.12.1->playground) (8.1.8)\n",
            "Requirement already satisfied: blinker>=1.9 in /usr/local/lib/python3.11/dist-packages (from flask->brax>=0.12.1->playground) (1.9.0)\n",
            "Requirement already satisfied: MarkupSafe>=2.0 in /usr/local/lib/python3.11/dist-packages (from jinja2->brax>=0.12.1->playground) (3.0.2)\n",
            "Requirement already satisfied: cloudpickle>=1.2.0 in /usr/local/lib/python3.11/dist-packages (from gym->brax>=0.12.1->playground) (3.1.1)\n",
            "Requirement already satisfied: gym_notices>=0.0.4 in /usr/local/lib/python3.11/dist-packages (from gym->brax>=0.12.1->playground) (0.0.8)\n",
            "Requirement already satisfied: chex>=0.1.87 in /usr/local/lib/python3.11/dist-packages (from optax->brax>=0.12.1->playground) (0.1.89)\n",
            "Requirement already satisfied: nest_asyncio in /usr/local/lib/python3.11/dist-packages (from orbax-checkpoint->brax>=0.12.1->playground) (1.6.0)\n",
            "Requirement already satisfied: protobuf in /usr/local/lib/python3.11/dist-packages (from orbax-checkpoint->brax>=0.12.1->playground) (5.29.4)\n",
            "Requirement already satisfied: humanize in /usr/local/lib/python3.11/dist-packages (from orbax-checkpoint->brax>=0.12.1->playground) (4.12.1)\n",
            "Requirement already satisfied: simplejson>=3.16.0 in /usr/local/lib/python3.11/dist-packages (from orbax-checkpoint->brax>=0.12.1->playground) (3.20.1)\n",
            "Requirement already satisfied: packaging in /usr/local/lib/python3.11/dist-packages (from tensorboardX->brax>=0.12.1->playground) (24.2)\n",
            "Requirement already satisfied: toolz>=0.9.0 in /usr/local/lib/python3.11/dist-packages (from chex>=0.1.87->optax->brax>=0.12.1->playground) (0.12.1)\n",
            "Requirement already satisfied: mdurl~=0.1 in /usr/local/lib/python3.11/dist-packages (from markdown-it-py>=2.2.0->rich>=11.1->flax->playground) (0.1.2)\n",
            "Requirement already satisfied: attrs>=18.2.0 in /usr/local/lib/python3.11/dist-packages (from dm-tree->dm_env->brax>=0.12.1->playground) (25.3.0)\n",
            "Requirement already satisfied: wrapt>=1.11.2 in /usr/local/lib/python3.11/dist-packages (from dm-tree->dm_env->brax>=0.12.1->playground) (1.17.2)\n",
            "Downloading playground-0.0.4-py3-none-any.whl (14.3 MB)\n",
            "\u001b[2K   \u001b[90m━━━━━━━━━━━━━━━━━━━━━━━━━━━━━━━━━━━━━━━━\u001b[0m \u001b[32m14.3/14.3 MB\u001b[0m \u001b[31m94.7 MB/s\u001b[0m eta \u001b[36m0:00:00\u001b[0m\n",
            "\u001b[?25hInstalling collected packages: playground\n",
            "Successfully installed playground-0.0.4\n"
          ]
        }
      ]
    },
    {
      "cell_type": "code",
      "source": [
        "#@title 6. 导入 Playground 模块（The Playground）\n",
        "\n",
        "# 从 mujoco_playground 中导入 wrapper 模块：\n",
        "# 这个模块通常用于封装环境（env）或模型，使其更易于控制和交互，\n",
        "# 比如包裹 MuJoCo 模型以简化调用或添加自定义控制接口\n",
        "from mujoco_playground import wrapper\n",
        "\n",
        "# 从 mujoco_playground 中导入 registry 模块：\n",
        "# 用于注册和管理自定义的动作、环境、控制器等，\n",
        "# 通常可以在其中注册自己的“青蛙跳”等动作动作控制逻辑，方便统一调用\n",
        "from mujoco_playground import registry"
      ],
      "metadata": {
        "colab": {
          "base_uri": "https://localhost:8080/"
        },
        "id": "YWMu_AsA-1Lm",
        "outputId": "36fea1ab-4387-452b-a1be-c5598413210f"
      },
      "execution_count": 6,
      "outputs": [
        {
          "output_type": "stream",
          "name": "stdout",
          "text": [
            "mujoco_menagerie not found. Downloading...\n"
          ]
        },
        {
          "output_type": "stream",
          "name": "stderr",
          "text": [
            "Cloning mujoco_menagerie: ██████████| 100/100 [00:26<00:00]\n"
          ]
        },
        {
          "output_type": "stream",
          "name": "stdout",
          "text": [
            "Checking out commit 14ceccf557cc47240202f2354d684eca58ff8de4\n",
            "Successfully downloaded mujoco_menagerie\n"
          ]
        }
      ]
    },
    {
      "cell_type": "code",
      "source": [
        "#@title 7. 查看 MuJoCo Playground 包含的四足和双足环境\n",
        "registry.locomotion.ALL_ENVS"
      ],
      "metadata": {
        "colab": {
          "base_uri": "https://localhost:8080/"
        },
        "id": "G3fLE9lQ_PI-",
        "outputId": "8e398e2d-bf3d-437e-da0d-ac7d6a45cc6f"
      },
      "execution_count": 7,
      "outputs": [
        {
          "output_type": "execute_result",
          "data": {
            "text/plain": [
              "('BarkourJoystick',\n",
              " 'BerkeleyHumanoidJoystickFlatTerrain',\n",
              " 'BerkeleyHumanoidJoystickRoughTerrain',\n",
              " 'G1JoystickFlatTerrain',\n",
              " 'G1JoystickRoughTerrain',\n",
              " 'Go1JoystickFlatTerrain',\n",
              " 'Go1JoystickRoughTerrain',\n",
              " 'Go1Getup',\n",
              " 'Go1Handstand',\n",
              " 'Go1Footstand',\n",
              " 'H1InplaceGaitTracking',\n",
              " 'H1JoystickGaitTracking',\n",
              " 'Op3Joystick',\n",
              " 'SpotFlatTerrainJoystick',\n",
              " 'SpotGetup',\n",
              " 'SpotJoystickGaitTracking',\n",
              " 'T1JoystickFlatTerrain',\n",
              " 'T1JoystickRoughTerrain')"
            ]
          },
          "metadata": {},
          "execution_count": 7
        }
      ]
    },
    {
      "cell_type": "code",
      "source": [
        "#@title 8. 训练 Unitree Go1 操纵杆策略\n",
        "# 操纵杆策略\n",
        "env_name = 'Go1JoystickFlatTerrain'\n",
        "# 注册管理环境\n",
        "env = registry.load(env_name)\n",
        "# 环境配置\n",
        "env_cfg = registry.get_default_config(env_name)\n",
        "# 查看配置\n",
        "env_cfg"
      ],
      "metadata": {
        "colab": {
          "base_uri": "https://localhost:8080/"
        },
        "id": "5zmRXWLr_fmH",
        "outputId": "c3caad17-c016-4b32-fa6b-104a0b9e13a9"
      },
      "execution_count": 9,
      "outputs": [
        {
          "output_type": "execute_result",
          "data": {
            "text/plain": [
              "Kd: 0.5\n",
              "Kp: 35.0\n",
              "action_repeat: 1\n",
              "action_scale: 0.5\n",
              "command_config:\n",
              "  a:\n",
              "  - 1.5\n",
              "  - 0.8\n",
              "  - 1.2\n",
              "  b:\n",
              "  - 0.9\n",
              "  - 0.25\n",
              "  - 0.5\n",
              "ctrl_dt: 0.02\n",
              "episode_length: 1000\n",
              "history_len: 1\n",
              "noise_config:\n",
              "  level: 1.0\n",
              "  scales:\n",
              "    gravity: 0.05\n",
              "    gyro: 0.2\n",
              "    joint_pos: 0.03\n",
              "    joint_vel: 1.5\n",
              "    linvel: 0.1\n",
              "pert_config:\n",
              "  enable: false\n",
              "  kick_durations:\n",
              "  - 0.05\n",
              "  - 0.2\n",
              "  kick_wait_times:\n",
              "  - 1.0\n",
              "  - 3.0\n",
              "  velocity_kick:\n",
              "  - 0.0\n",
              "  - 3.0\n",
              "reward_config:\n",
              "  max_foot_height: 0.1\n",
              "  scales:\n",
              "    action_rate: -0.01\n",
              "    ang_vel_xy: -0.05\n",
              "    dof_pos_limits: -1.0\n",
              "    energy: -0.001\n",
              "    feet_air_time: 0.1\n",
              "    feet_clearance: -2.0\n",
              "    feet_height: -0.2\n",
              "    feet_slip: -0.1\n",
              "    lin_vel_z: -0.5\n",
              "    orientation: -5.0\n",
              "    pose: 0.5\n",
              "    stand_still: -1.0\n",
              "    termination: -1.0\n",
              "    torques: -0.0002\n",
              "    tracking_ang_vel: 0.5\n",
              "    tracking_lin_vel: 1.0\n",
              "  tracking_sigma: 0.25\n",
              "sim_dt: 0.004\n",
              "soft_joint_pos_limit_factor: 0.95"
            ]
          },
          "metadata": {},
          "execution_count": 9
        }
      ]
    },
    {
      "cell_type": "code",
      "source": [
        "#@title 9. 采用 PPO 算法\n",
        "# 从 mujoco_playground 的 config 模块中导入 locomotion_params\n",
        "# 这个模块中包含为不同环境（如 humanoid、ant 等）预设的强化学习参数配置\n",
        "from mujoco_playground.config import locomotion_params\n",
        "\n",
        "# 调用 locomotion_params 中的 brax_ppo_config 函数，\n",
        "# 根据当前环境名称（env_name）返回对应的 PPO 训练配置（例如学习率、batch 大小等）\n",
        "ppo_params = locomotion_params.brax_ppo_config(env_name)\n",
        "\n",
        "# 显示 ppo_params 的内容（通常是一个 config_dict，包含超参数字典）\n",
        "ppo_params"
      ],
      "metadata": {
        "colab": {
          "base_uri": "https://localhost:8080/"
        },
        "id": "1ukMxagy_zuN",
        "outputId": "23a13897-8524-4ae8-a05c-6479de0aa629"
      },
      "execution_count": 13,
      "outputs": [
        {
          "output_type": "execute_result",
          "data": {
            "text/plain": [
              "action_repeat: 1\n",
              "batch_size: 256\n",
              "discounting: 0.97\n",
              "entropy_cost: 0.01\n",
              "episode_length: 1000\n",
              "learning_rate: 0.0003\n",
              "max_grad_norm: 1.0\n",
              "network_factory:\n",
              "  policy_hidden_layer_sizes: &id001 !!python/tuple\n",
              "  - 512\n",
              "  - 256\n",
              "  - 128\n",
              "  policy_obs_key: state\n",
              "  value_hidden_layer_sizes: *id001\n",
              "  value_obs_key: privileged_state\n",
              "normalize_observations: true\n",
              "num_envs: 8192\n",
              "num_evals: 10\n",
              "num_minibatches: 32\n",
              "num_resets_per_eval: 1\n",
              "num_timesteps: 200000000\n",
              "num_updates_per_batch: 4\n",
              "reward_scaling: 1.0\n",
              "unroll_length: 20"
            ]
          },
          "metadata": {},
          "execution_count": 13
        }
      ]
    },
    {
      "cell_type": "code",
      "source": [
        "#@title 10. 域随机化函数: 对摩擦力, 电机, 躯干质心和部件质量等模拟参数进行随机化\n",
        "registry.get_domain_randomizer(env_name)"
      ],
      "metadata": {
        "colab": {
          "base_uri": "https://localhost:8080/",
          "height": 121
        },
        "id": "lustfZAx_-CB",
        "outputId": "228fae2d-53d3-4ed8-ffb2-623d6aced7f9"
      },
      "execution_count": 14,
      "outputs": [
        {
          "output_type": "execute_result",
          "data": {
            "text/plain": [
              "<function mujoco_playground._src.locomotion.go1.randomize.domain_randomize(model: mujoco.mjx._src.types.Model, rng: jax.Array)>"
            ],
            "text/html": [
              "<div style=\"max-width:800px; border: 1px solid var(--colab-border-color);\"><style>\n",
              "      pre.function-repr-contents {\n",
              "        overflow-x: auto;\n",
              "        padding: 8px 12px;\n",
              "        max-height: 500px;\n",
              "      }\n",
              "\n",
              "      pre.function-repr-contents.function-repr-contents-collapsed {\n",
              "        cursor: pointer;\n",
              "        max-height: 100px;\n",
              "      }\n",
              "    </style>\n",
              "    <pre style=\"white-space: initial; background:\n",
              "         var(--colab-secondary-surface-color); padding: 8px 12px;\n",
              "         border-bottom: 1px solid var(--colab-border-color);\"><b>mujoco_playground._src.locomotion.go1.randomize.domain_randomize</b><br/>def domain_randomize(model: mjx.Model, rng: jax.Array)</pre><pre class=\"function-repr-contents function-repr-contents-collapsed\" style=\"\"><a class=\"filepath\" style=\"display:none\" href=\"#\">/usr/local/lib/python3.11/dist-packages/mujoco_playground/_src/locomotion/go1/randomize.py</a>&lt;no docstring&gt;</pre>\n",
              "      <script>\n",
              "      if (google.colab.kernel.accessAllowed && google.colab.files && google.colab.files.view) {\n",
              "        for (const element of document.querySelectorAll('.filepath')) {\n",
              "          element.style.display = 'block'\n",
              "          element.onclick = (event) => {\n",
              "            event.preventDefault();\n",
              "            event.stopPropagation();\n",
              "            google.colab.files.view(element.textContent, 24);\n",
              "          };\n",
              "        }\n",
              "      }\n",
              "      for (const element of document.querySelectorAll('.function-repr-contents')) {\n",
              "        element.onclick = (event) => {\n",
              "          event.preventDefault();\n",
              "          event.stopPropagation();\n",
              "          element.classList.toggle('function-repr-contents-collapsed');\n",
              "        };\n",
              "      }\n",
              "      </script>\n",
              "      </div>"
            ]
          },
          "metadata": {},
          "execution_count": 14
        }
      ]
    }
  ]
}