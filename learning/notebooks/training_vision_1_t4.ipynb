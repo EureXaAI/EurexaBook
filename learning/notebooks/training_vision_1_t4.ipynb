{
  "cells": [
    {
      "cell_type": "markdown",
      "id": "ace56453",
      "metadata": {
        "id": "ace56453"
      },
      "source": [
        "![MuJoCo banner](https://raw.githubusercontent.com/google-deepmind/mujoco/main/banner.png)\n",
        "\n",
        "\n",
        "\n",
        "\n",
        "\n",
        "\n",
        "\n",
        "### Copyright notice\n",
        "\n",
        "> <p><small><small>Copyright 2025 DeepMind Technologies Limited.</small></p>\n",
        "> <p><small><small>Licensed under the Apache License, Version 2.0 (the \"License\"); you may not use this file except in compliance with the License. You may obtain a copy of the License at <a href=\"http://www.apache.org/licenses/LICENSE-2.0\">http://www.apache.org/licenses/LICENSE-2.0</a>.</small></small></p>\n",
        "> <p><small><small>Unless required by applicable law or agreed to in writing, software distributed under the License is distributed on an \"AS IS\" BASIS, WITHOUT WARRANTIES OR CONDITIONS OF ANY KIND, either express or implied. See the License for the specific language governing permissions and limitations under the License.</small></small></p>"
      ]
    },
    {
      "cell_type": "markdown",
      "id": "4be2d8a0",
      "metadata": {
        "id": "4be2d8a0"
      },
      "source": [
        "# Tutorial\n",
        "\n",
        "This notebook is the first of two that demonstrate pixels-to-actions training using the experimental Madrona rendering backend.\n",
        "\n",
        "### Usage\n",
        "\n",
        "This is a simplified version of the main cartpole balance [tutorial](https://github.com/google-deepmind/mujoco_playground/blob/main/learning/notebooks/training_vision_1.ipynb), adjusted to run on a hosted instance with a T4 GPU."
      ]
    },
    {
      "cell_type": "markdown",
      "id": "574fcff5",
      "metadata": {
        "id": "574fcff5"
      },
      "source": [
        "### Build and Install Madrona MJX (5 min on hosted instance)"
      ]
    },
    {
      "cell_type": "code",
      "execution_count": 1,
      "id": "be30d4a9",
      "metadata": {
        "id": "be30d4a9"
      },
      "outputs": [],
      "source": [
        "%%bash\n",
        "cat >setup.bash <<EOF\n",
        "\n",
        "# Ensure Jax matches the CUDA that will be used to build Madrona MJX\n",
        "!pip uninstall -y jax\n",
        "!pip install jax[\"cuda12_local\"]==0.4.35\n",
        "\n",
        "! sudo apt install libx11-dev libxrandr-dev libxinerama-dev libxcursor-dev libxi-dev mesa-common-dev\n",
        "\n",
        "# Prevent Python from trying to import the source packages.\n",
        "mkdir modules\n",
        "cd modules\n",
        "\n",
        "# -- 7) Install madrona-mjx\n",
        "echo \"Cloning madrona-mjx...\"\n",
        "git clone https://github.com/shacklettbp/madrona_mjx.git\n",
        "\n",
        "cd madrona_mjx\n",
        "git submodule update --init --recursive\n",
        "\n",
        "mkdir build\n",
        "cd build\n",
        "cmake -DLOAD_VULKAN=OFF ..\n",
        "make -j 8\n",
        "\n",
        "cd ..\n",
        "pip install -e .\n",
        "EOF"
      ]
    },
    {
      "cell_type": "code",
      "execution_count": 2,
      "id": "9758b8b6",
      "metadata": {
        "id": "9758b8b6",
        "outputId": "ecda4133-0e2d-4e42-dfd5-f3f48076f275",
        "colab": {
          "base_uri": "https://localhost:8080/"
        }
      },
      "outputs": [
        {
          "output_type": "execute_result",
          "data": {
            "text/plain": [
              "CompletedProcess(args=['bash', 'setup.bash'], returncode=0)"
            ]
          },
          "metadata": {},
          "execution_count": 2
        }
      ],
      "source": [
        "import subprocess\n",
        "# Run the setup.bash script\n",
        "subprocess.run([\"bash\", \"setup.bash\"], check=True)"
      ]
    },
    {
      "cell_type": "markdown",
      "id": "HizwPjwEEEei",
      "metadata": {
        "id": "HizwPjwEEEei"
      },
      "source": [
        "Now, after installing Madrona MJX, please **restart your colab** instance! (`Runtime -> Restart session`)"
      ]
    },
    {
      "cell_type": "markdown",
      "id": "1a90aa84",
      "metadata": {
        "id": "1a90aa84"
      },
      "source": [
        "### Install Playground and Pre-requisites"
      ]
    },
    {
      "cell_type": "code",
      "execution_count": 3,
      "id": "f617d7bc",
      "metadata": {
        "colab": {
          "base_uri": "https://localhost:8080/"
        },
        "id": "f617d7bc",
        "outputId": "3cca498a-338a-4424-b2e8-888de2f6c8c7"
      },
      "outputs": [
        {
          "output_type": "stream",
          "name": "stdout",
          "text": [
            "Requirement already satisfied: mujoco in /usr/local/lib/python3.11/dist-packages (3.3.0)\n",
            "Requirement already satisfied: absl-py in /usr/local/lib/python3.11/dist-packages (from mujoco) (1.4.0)\n",
            "Requirement already satisfied: etils[epath] in /usr/local/lib/python3.11/dist-packages (from mujoco) (1.12.2)\n",
            "Requirement already satisfied: glfw in /usr/local/lib/python3.11/dist-packages (from mujoco) (2.8.0)\n",
            "Requirement already satisfied: numpy in /usr/local/lib/python3.11/dist-packages (from mujoco) (2.0.2)\n",
            "Requirement already satisfied: pyopengl in /usr/local/lib/python3.11/dist-packages (from mujoco) (3.1.9)\n",
            "Requirement already satisfied: fsspec in /usr/local/lib/python3.11/dist-packages (from etils[epath]->mujoco) (2024.10.0)\n",
            "Requirement already satisfied: importlib_resources in /usr/local/lib/python3.11/dist-packages (from etils[epath]->mujoco) (6.5.2)\n",
            "Requirement already satisfied: typing_extensions in /usr/local/lib/python3.11/dist-packages (from etils[epath]->mujoco) (4.12.2)\n",
            "Requirement already satisfied: zipp in /usr/local/lib/python3.11/dist-packages (from etils[epath]->mujoco) (3.21.0)\n",
            "Requirement already satisfied: mujoco_mjx in /usr/local/lib/python3.11/dist-packages (3.3.0)\n",
            "Requirement already satisfied: absl-py in /usr/local/lib/python3.11/dist-packages (from mujoco_mjx) (1.4.0)\n",
            "Requirement already satisfied: etils[epath] in /usr/local/lib/python3.11/dist-packages (from mujoco_mjx) (1.12.2)\n",
            "Requirement already satisfied: jax in /usr/local/lib/python3.11/dist-packages (from mujoco_mjx) (0.5.2)\n",
            "Requirement already satisfied: jaxlib in /usr/local/lib/python3.11/dist-packages (from mujoco_mjx) (0.5.1)\n",
            "Requirement already satisfied: mujoco>=3.3.0.dev0 in /usr/local/lib/python3.11/dist-packages (from mujoco_mjx) (3.3.0)\n",
            "Requirement already satisfied: scipy in /usr/local/lib/python3.11/dist-packages (from mujoco_mjx) (1.14.1)\n",
            "Requirement already satisfied: trimesh in /usr/local/lib/python3.11/dist-packages (from mujoco_mjx) (4.6.4)\n",
            "Requirement already satisfied: glfw in /usr/local/lib/python3.11/dist-packages (from mujoco>=3.3.0.dev0->mujoco_mjx) (2.8.0)\n",
            "Requirement already satisfied: numpy in /usr/local/lib/python3.11/dist-packages (from mujoco>=3.3.0.dev0->mujoco_mjx) (2.0.2)\n",
            "Requirement already satisfied: pyopengl in /usr/local/lib/python3.11/dist-packages (from mujoco>=3.3.0.dev0->mujoco_mjx) (3.1.9)\n",
            "Requirement already satisfied: fsspec in /usr/local/lib/python3.11/dist-packages (from etils[epath]->mujoco_mjx) (2024.10.0)\n",
            "Requirement already satisfied: importlib_resources in /usr/local/lib/python3.11/dist-packages (from etils[epath]->mujoco_mjx) (6.5.2)\n",
            "Requirement already satisfied: typing_extensions in /usr/local/lib/python3.11/dist-packages (from etils[epath]->mujoco_mjx) (4.12.2)\n",
            "Requirement already satisfied: zipp in /usr/local/lib/python3.11/dist-packages (from etils[epath]->mujoco_mjx) (3.21.0)\n",
            "Requirement already satisfied: ml_dtypes>=0.4.0 in /usr/local/lib/python3.11/dist-packages (from jax->mujoco_mjx) (0.4.1)\n",
            "Requirement already satisfied: opt_einsum in /usr/local/lib/python3.11/dist-packages (from jax->mujoco_mjx) (3.4.0)\n",
            "Requirement already satisfied: brax in /usr/local/lib/python3.11/dist-packages (0.12.1)\n",
            "Requirement already satisfied: absl-py in /usr/local/lib/python3.11/dist-packages (from brax) (1.4.0)\n",
            "Requirement already satisfied: dm_env in /usr/local/lib/python3.11/dist-packages (from brax) (1.6)\n",
            "Requirement already satisfied: etils in /usr/local/lib/python3.11/dist-packages (from brax) (1.12.2)\n",
            "Requirement already satisfied: flask in /usr/local/lib/python3.11/dist-packages (from brax) (3.1.0)\n",
            "Requirement already satisfied: flask_cors in /usr/local/lib/python3.11/dist-packages (from brax) (5.0.1)\n",
            "Requirement already satisfied: flax in /usr/local/lib/python3.11/dist-packages (from brax) (0.10.4)\n",
            "Requirement already satisfied: grpcio in /usr/local/lib/python3.11/dist-packages (from brax) (1.71.0)\n",
            "Requirement already satisfied: gym in /usr/local/lib/python3.11/dist-packages (from brax) (0.25.2)\n",
            "Requirement already satisfied: jax>=0.4.6 in /usr/local/lib/python3.11/dist-packages (from brax) (0.5.2)\n",
            "Requirement already satisfied: jaxlib>=0.4.6 in /usr/local/lib/python3.11/dist-packages (from brax) (0.5.1)\n",
            "Requirement already satisfied: jaxopt in /usr/local/lib/python3.11/dist-packages (from brax) (0.8.3)\n",
            "Requirement already satisfied: jinja2 in /usr/local/lib/python3.11/dist-packages (from brax) (3.1.6)\n",
            "Requirement already satisfied: ml_collections in /usr/local/lib/python3.11/dist-packages (from brax) (1.0.0)\n",
            "Requirement already satisfied: mujoco in /usr/local/lib/python3.11/dist-packages (from brax) (3.3.0)\n",
            "Requirement already satisfied: mujoco-mjx in /usr/local/lib/python3.11/dist-packages (from brax) (3.3.0)\n",
            "Requirement already satisfied: numpy in /usr/local/lib/python3.11/dist-packages (from brax) (2.0.2)\n",
            "Requirement already satisfied: optax in /usr/local/lib/python3.11/dist-packages (from brax) (0.2.4)\n",
            "Requirement already satisfied: orbax-checkpoint in /usr/local/lib/python3.11/dist-packages (from brax) (0.11.8)\n",
            "Requirement already satisfied: Pillow in /usr/local/lib/python3.11/dist-packages (from brax) (11.1.0)\n",
            "Requirement already satisfied: pytinyrenderer in /usr/local/lib/python3.11/dist-packages (from brax) (0.0.14)\n",
            "Requirement already satisfied: scipy in /usr/local/lib/python3.11/dist-packages (from brax) (1.14.1)\n",
            "Requirement already satisfied: tensorboardX in /usr/local/lib/python3.11/dist-packages (from brax) (2.6.2.2)\n",
            "Requirement already satisfied: trimesh in /usr/local/lib/python3.11/dist-packages (from brax) (4.6.4)\n",
            "Requirement already satisfied: typing-extensions in /usr/local/lib/python3.11/dist-packages (from brax) (4.12.2)\n",
            "Requirement already satisfied: ml_dtypes>=0.4.0 in /usr/local/lib/python3.11/dist-packages (from jax>=0.4.6->brax) (0.4.1)\n",
            "Requirement already satisfied: opt_einsum in /usr/local/lib/python3.11/dist-packages (from jax>=0.4.6->brax) (3.4.0)\n",
            "Requirement already satisfied: dm-tree in /usr/local/lib/python3.11/dist-packages (from dm_env->brax) (0.1.9)\n",
            "Requirement already satisfied: Werkzeug>=3.1 in /usr/local/lib/python3.11/dist-packages (from flask->brax) (3.1.3)\n",
            "Requirement already satisfied: itsdangerous>=2.2 in /usr/local/lib/python3.11/dist-packages (from flask->brax) (2.2.0)\n",
            "Requirement already satisfied: click>=8.1.3 in /usr/local/lib/python3.11/dist-packages (from flask->brax) (8.1.8)\n",
            "Requirement already satisfied: blinker>=1.9 in /usr/local/lib/python3.11/dist-packages (from flask->brax) (1.9.0)\n",
            "Requirement already satisfied: MarkupSafe>=2.0 in /usr/local/lib/python3.11/dist-packages (from jinja2->brax) (3.0.2)\n",
            "Requirement already satisfied: msgpack in /usr/local/lib/python3.11/dist-packages (from flax->brax) (1.1.0)\n",
            "Requirement already satisfied: tensorstore in /usr/local/lib/python3.11/dist-packages (from flax->brax) (0.1.72)\n",
            "Requirement already satisfied: rich>=11.1 in /usr/local/lib/python3.11/dist-packages (from flax->brax) (13.9.4)\n",
            "Requirement already satisfied: PyYAML>=5.4.1 in /usr/local/lib/python3.11/dist-packages (from flax->brax) (6.0.2)\n",
            "Requirement already satisfied: treescope>=0.1.7 in /usr/local/lib/python3.11/dist-packages (from flax->brax) (0.1.9)\n",
            "Requirement already satisfied: cloudpickle>=1.2.0 in /usr/local/lib/python3.11/dist-packages (from gym->brax) (3.1.1)\n",
            "Requirement already satisfied: gym_notices>=0.0.4 in /usr/local/lib/python3.11/dist-packages (from gym->brax) (0.0.8)\n",
            "Requirement already satisfied: six in /usr/local/lib/python3.11/dist-packages (from ml_collections->brax) (1.17.0)\n",
            "Requirement already satisfied: glfw in /usr/local/lib/python3.11/dist-packages (from mujoco->brax) (2.8.0)\n",
            "Requirement already satisfied: pyopengl in /usr/local/lib/python3.11/dist-packages (from mujoco->brax) (3.1.9)\n",
            "Requirement already satisfied: chex>=0.1.87 in /usr/local/lib/python3.11/dist-packages (from optax->brax) (0.1.89)\n",
            "Requirement already satisfied: nest_asyncio in /usr/local/lib/python3.11/dist-packages (from orbax-checkpoint->brax) (1.6.0)\n",
            "Requirement already satisfied: protobuf in /usr/local/lib/python3.11/dist-packages (from orbax-checkpoint->brax) (4.25.6)\n",
            "Requirement already satisfied: humanize in /usr/local/lib/python3.11/dist-packages (from orbax-checkpoint->brax) (4.11.0)\n",
            "Requirement already satisfied: simplejson>=3.16.0 in /usr/local/lib/python3.11/dist-packages (from orbax-checkpoint->brax) (3.20.1)\n",
            "Requirement already satisfied: packaging in /usr/local/lib/python3.11/dist-packages (from tensorboardX->brax) (24.2)\n",
            "Requirement already satisfied: toolz>=0.9.0 in /usr/local/lib/python3.11/dist-packages (from chex>=0.1.87->optax->brax) (0.12.1)\n",
            "Requirement already satisfied: markdown-it-py>=2.2.0 in /usr/local/lib/python3.11/dist-packages (from rich>=11.1->flax->brax) (3.0.0)\n",
            "Requirement already satisfied: pygments<3.0.0,>=2.13.0 in /usr/local/lib/python3.11/dist-packages (from rich>=11.1->flax->brax) (2.18.0)\n",
            "Requirement already satisfied: attrs>=18.2.0 in /usr/local/lib/python3.11/dist-packages (from dm-tree->dm_env->brax) (25.3.0)\n",
            "Requirement already satisfied: wrapt>=1.11.2 in /usr/local/lib/python3.11/dist-packages (from dm-tree->dm_env->brax) (1.17.2)\n",
            "Requirement already satisfied: fsspec in /usr/local/lib/python3.11/dist-packages (from etils[epath,epy]->orbax-checkpoint->brax) (2024.10.0)\n",
            "Requirement already satisfied: importlib_resources in /usr/local/lib/python3.11/dist-packages (from etils[epath,epy]->orbax-checkpoint->brax) (6.5.2)\n",
            "Requirement already satisfied: zipp in /usr/local/lib/python3.11/dist-packages (from etils[epath,epy]->orbax-checkpoint->brax) (3.21.0)\n",
            "Requirement already satisfied: mdurl~=0.1 in /usr/local/lib/python3.11/dist-packages (from markdown-it-py>=2.2.0->rich>=11.1->flax->brax) (0.1.2)\n",
            "Requirement already satisfied: playground in /usr/local/lib/python3.11/dist-packages (0.0.4)\n",
            "Requirement already satisfied: brax>=0.12.1 in /usr/local/lib/python3.11/dist-packages (from playground) (0.12.1)\n",
            "Requirement already satisfied: etils in /usr/local/lib/python3.11/dist-packages (from playground) (1.12.2)\n",
            "Requirement already satisfied: flax in /usr/local/lib/python3.11/dist-packages (from playground) (0.10.4)\n",
            "Requirement already satisfied: jax in /usr/local/lib/python3.11/dist-packages (from playground) (0.5.2)\n",
            "Requirement already satisfied: lxml in /usr/local/lib/python3.11/dist-packages (from playground) (5.3.1)\n",
            "Requirement already satisfied: ml-collections in /usr/local/lib/python3.11/dist-packages (from playground) (1.0.0)\n",
            "Requirement already satisfied: mujoco-mjx>=3.2.7 in /usr/local/lib/python3.11/dist-packages (from playground) (3.3.0)\n",
            "Requirement already satisfied: mujoco>=3.2.7 in /usr/local/lib/python3.11/dist-packages (from playground) (3.3.0)\n",
            "Requirement already satisfied: tqdm in /usr/local/lib/python3.11/dist-packages (from playground) (4.67.1)\n",
            "Requirement already satisfied: absl-py in /usr/local/lib/python3.11/dist-packages (from brax>=0.12.1->playground) (1.4.0)\n",
            "Requirement already satisfied: dm_env in /usr/local/lib/python3.11/dist-packages (from brax>=0.12.1->playground) (1.6)\n",
            "Requirement already satisfied: flask in /usr/local/lib/python3.11/dist-packages (from brax>=0.12.1->playground) (3.1.0)\n",
            "Requirement already satisfied: flask_cors in /usr/local/lib/python3.11/dist-packages (from brax>=0.12.1->playground) (5.0.1)\n",
            "Requirement already satisfied: grpcio in /usr/local/lib/python3.11/dist-packages (from brax>=0.12.1->playground) (1.71.0)\n",
            "Requirement already satisfied: gym in /usr/local/lib/python3.11/dist-packages (from brax>=0.12.1->playground) (0.25.2)\n",
            "Requirement already satisfied: jaxlib>=0.4.6 in /usr/local/lib/python3.11/dist-packages (from brax>=0.12.1->playground) (0.5.1)\n",
            "Requirement already satisfied: jaxopt in /usr/local/lib/python3.11/dist-packages (from brax>=0.12.1->playground) (0.8.3)\n",
            "Requirement already satisfied: jinja2 in /usr/local/lib/python3.11/dist-packages (from brax>=0.12.1->playground) (3.1.6)\n",
            "Requirement already satisfied: numpy in /usr/local/lib/python3.11/dist-packages (from brax>=0.12.1->playground) (2.0.2)\n",
            "Requirement already satisfied: optax in /usr/local/lib/python3.11/dist-packages (from brax>=0.12.1->playground) (0.2.4)\n",
            "Requirement already satisfied: orbax-checkpoint in /usr/local/lib/python3.11/dist-packages (from brax>=0.12.1->playground) (0.11.8)\n",
            "Requirement already satisfied: Pillow in /usr/local/lib/python3.11/dist-packages (from brax>=0.12.1->playground) (11.1.0)\n",
            "Requirement already satisfied: pytinyrenderer in /usr/local/lib/python3.11/dist-packages (from brax>=0.12.1->playground) (0.0.14)\n",
            "Requirement already satisfied: scipy in /usr/local/lib/python3.11/dist-packages (from brax>=0.12.1->playground) (1.14.1)\n",
            "Requirement already satisfied: tensorboardX in /usr/local/lib/python3.11/dist-packages (from brax>=0.12.1->playground) (2.6.2.2)\n",
            "Requirement already satisfied: trimesh in /usr/local/lib/python3.11/dist-packages (from brax>=0.12.1->playground) (4.6.4)\n",
            "Requirement already satisfied: typing-extensions in /usr/local/lib/python3.11/dist-packages (from brax>=0.12.1->playground) (4.12.2)\n",
            "Requirement already satisfied: ml_dtypes>=0.4.0 in /usr/local/lib/python3.11/dist-packages (from jax->playground) (0.4.1)\n",
            "Requirement already satisfied: opt_einsum in /usr/local/lib/python3.11/dist-packages (from jax->playground) (3.4.0)\n",
            "Requirement already satisfied: glfw in /usr/local/lib/python3.11/dist-packages (from mujoco>=3.2.7->playground) (2.8.0)\n",
            "Requirement already satisfied: pyopengl in /usr/local/lib/python3.11/dist-packages (from mujoco>=3.2.7->playground) (3.1.9)\n",
            "Requirement already satisfied: msgpack in /usr/local/lib/python3.11/dist-packages (from flax->playground) (1.1.0)\n",
            "Requirement already satisfied: tensorstore in /usr/local/lib/python3.11/dist-packages (from flax->playground) (0.1.72)\n",
            "Requirement already satisfied: rich>=11.1 in /usr/local/lib/python3.11/dist-packages (from flax->playground) (13.9.4)\n",
            "Requirement already satisfied: PyYAML>=5.4.1 in /usr/local/lib/python3.11/dist-packages (from flax->playground) (6.0.2)\n",
            "Requirement already satisfied: treescope>=0.1.7 in /usr/local/lib/python3.11/dist-packages (from flax->playground) (0.1.9)\n",
            "Requirement already satisfied: six in /usr/local/lib/python3.11/dist-packages (from ml-collections->playground) (1.17.0)\n",
            "Requirement already satisfied: markdown-it-py>=2.2.0 in /usr/local/lib/python3.11/dist-packages (from rich>=11.1->flax->playground) (3.0.0)\n",
            "Requirement already satisfied: pygments<3.0.0,>=2.13.0 in /usr/local/lib/python3.11/dist-packages (from rich>=11.1->flax->playground) (2.18.0)\n",
            "Requirement already satisfied: dm-tree in /usr/local/lib/python3.11/dist-packages (from dm_env->brax>=0.12.1->playground) (0.1.9)\n",
            "Requirement already satisfied: fsspec in /usr/local/lib/python3.11/dist-packages (from etils[epath]->mujoco>=3.2.7->playground) (2024.10.0)\n",
            "Requirement already satisfied: importlib_resources in /usr/local/lib/python3.11/dist-packages (from etils[epath]->mujoco>=3.2.7->playground) (6.5.2)\n",
            "Requirement already satisfied: zipp in /usr/local/lib/python3.11/dist-packages (from etils[epath]->mujoco>=3.2.7->playground) (3.21.0)\n",
            "Requirement already satisfied: Werkzeug>=3.1 in /usr/local/lib/python3.11/dist-packages (from flask->brax>=0.12.1->playground) (3.1.3)\n",
            "Requirement already satisfied: itsdangerous>=2.2 in /usr/local/lib/python3.11/dist-packages (from flask->brax>=0.12.1->playground) (2.2.0)\n",
            "Requirement already satisfied: click>=8.1.3 in /usr/local/lib/python3.11/dist-packages (from flask->brax>=0.12.1->playground) (8.1.8)\n",
            "Requirement already satisfied: blinker>=1.9 in /usr/local/lib/python3.11/dist-packages (from flask->brax>=0.12.1->playground) (1.9.0)\n",
            "Requirement already satisfied: MarkupSafe>=2.0 in /usr/local/lib/python3.11/dist-packages (from jinja2->brax>=0.12.1->playground) (3.0.2)\n",
            "Requirement already satisfied: cloudpickle>=1.2.0 in /usr/local/lib/python3.11/dist-packages (from gym->brax>=0.12.1->playground) (3.1.1)\n",
            "Requirement already satisfied: gym_notices>=0.0.4 in /usr/local/lib/python3.11/dist-packages (from gym->brax>=0.12.1->playground) (0.0.8)\n",
            "Requirement already satisfied: chex>=0.1.87 in /usr/local/lib/python3.11/dist-packages (from optax->brax>=0.12.1->playground) (0.1.89)\n",
            "Requirement already satisfied: nest_asyncio in /usr/local/lib/python3.11/dist-packages (from orbax-checkpoint->brax>=0.12.1->playground) (1.6.0)\n",
            "Requirement already satisfied: protobuf in /usr/local/lib/python3.11/dist-packages (from orbax-checkpoint->brax>=0.12.1->playground) (4.25.6)\n",
            "Requirement already satisfied: humanize in /usr/local/lib/python3.11/dist-packages (from orbax-checkpoint->brax>=0.12.1->playground) (4.11.0)\n",
            "Requirement already satisfied: simplejson>=3.16.0 in /usr/local/lib/python3.11/dist-packages (from orbax-checkpoint->brax>=0.12.1->playground) (3.20.1)\n",
            "Requirement already satisfied: packaging in /usr/local/lib/python3.11/dist-packages (from tensorboardX->brax>=0.12.1->playground) (24.2)\n",
            "Requirement already satisfied: toolz>=0.9.0 in /usr/local/lib/python3.11/dist-packages (from chex>=0.1.87->optax->brax>=0.12.1->playground) (0.12.1)\n",
            "Requirement already satisfied: mdurl~=0.1 in /usr/local/lib/python3.11/dist-packages (from markdown-it-py>=2.2.0->rich>=11.1->flax->playground) (0.1.2)\n",
            "Requirement already satisfied: attrs>=18.2.0 in /usr/local/lib/python3.11/dist-packages (from dm-tree->dm_env->brax>=0.12.1->playground) (25.3.0)\n",
            "Requirement already satisfied: wrapt>=1.11.2 in /usr/local/lib/python3.11/dist-packages (from dm-tree->dm_env->brax>=0.12.1->playground) (1.17.2)\n"
          ]
        }
      ],
      "source": [
        "!pip install mujoco\n",
        "!pip install mujoco_mjx\n",
        "!pip install brax\n",
        "!pip install playground\n",
        "!command -v ffmpeg >/dev/null || (apt update && apt install -y ffmpeg)\n",
        "!pip install -q mediapy"
      ]
    },
    {
      "cell_type": "code",
      "execution_count": 4,
      "id": "4e8b1475",
      "metadata": {
        "colab": {
          "base_uri": "https://localhost:8080/"
        },
        "id": "4e8b1475",
        "outputId": "4ebef6ee-88d4-4aac-a43a-bcb9ac1d5cdf"
      },
      "outputs": [
        {
          "output_type": "stream",
          "name": "stdout",
          "text": [
            "Setting environment variable to use GPU rendering:\n",
            "env: MUJOCO_GL=egl\n",
            "Checking that the installation succeeded:\n",
            "Installation successful.\n"
          ]
        }
      ],
      "source": [
        "# @title Configuration for both local and for Colab instances.\n",
        "\n",
        "# On your second reading, load the compiled rendering backend to save time!\n",
        "import os\n",
        "os.environ[\"XLA_PYTHON_CLIENT_PREALLOCATE\"] = \"false\"\n",
        "\n",
        "# Check if MuJoCo installation was successful\n",
        "import distutils.util\n",
        "import os\n",
        "import subprocess\n",
        "if subprocess.run('nvidia-smi').returncode:\n",
        "    raise RuntimeError(\n",
        "        'Cannot communicate with GPU. '\n",
        "        'Make sure you are using a GPU Colab runtime. '\n",
        "        'Go to the Runtime menu and select Choose runtime type.'\n",
        "    )\n",
        "\n",
        "# Add an ICD config so that glvnd can pick up the Nvidia EGL driver.\n",
        "# This is usually installed as part of an Nvidia driver package, but the Colab\n",
        "# kernel doesn't install its driver via APT, and as a result the ICD is missing.\n",
        "# (https://github.com/NVIDIA/libglvnd/blob/master/src/EGL/icd_enumeration.md)\n",
        "NVIDIA_ICD_CONFIG_PATH = '/usr/share/glvnd/egl_vendor.d/10_nvidia.json'\n",
        "if not os.path.exists(NVIDIA_ICD_CONFIG_PATH):\n",
        "    with open(NVIDIA_ICD_CONFIG_PATH, 'w') as f:\n",
        "        f.write(\"\"\"{\n",
        "        \"file_format_version\" : \"1.0.0\",\n",
        "        \"ICD\" : {\n",
        "            \"library_path\" : \"libEGL_nvidia.so.0\"\n",
        "        }\n",
        "    }\n",
        "    \"\"\")\n",
        "\n",
        "# Configure MuJoCo to use the EGL rendering backend (requires GPU)\n",
        "print('Setting environment variable to use GPU rendering:')\n",
        "%env MUJOCO_GL=egl\n",
        "\n",
        "try:\n",
        "    print('Checking that the installation succeeded:')\n",
        "    import mujoco\n",
        "\n",
        "    mujoco.MjModel.from_xml_string('<mujoco/>')\n",
        "except Exception as e:\n",
        "    raise e from RuntimeError(\n",
        "        'Something went wrong during installation. Check the shell output above '\n",
        "        'for more information.\\n'\n",
        "        'If using a hosted Colab runtime, make sure you enable GPU acceleration '\n",
        "        'by going to the Runtime menu and selecting \"Choose runtime type\".'\n",
        "    )\n",
        "\n",
        "print('Installation successful.')\n",
        "\n",
        "# Tell XLA to use Triton GEMM, this improves steps/sec by ~30% on some GPUs\n",
        "xla_flags = os.environ.get('XLA_FLAGS', '')\n",
        "xla_flags += ' --xla_gpu_triton_gemm_any=True'\n",
        "os.environ['XLA_FLAGS'] = xla_flags"
      ]
    },
    {
      "cell_type": "code",
      "execution_count": 5,
      "id": "7ce3f23a",
      "metadata": {
        "id": "7ce3f23a"
      },
      "outputs": [],
      "source": [
        "# @title Import packages for plotting and creating graphics\n",
        "import json\n",
        "import itertools\n",
        "import time\n",
        "from typing import Callable, List, NamedTuple, Optional, Union\n",
        "import numpy as np\n",
        "\n",
        "# Graphics and plotting.\n",
        "import mediapy as media\n",
        "import matplotlib.pyplot as plt\n",
        "\n",
        "# More legible printing from numpy.\n",
        "np.set_printoptions(precision=3, suppress=True, linewidth=100)"
      ]
    },
    {
      "cell_type": "code",
      "execution_count": 6,
      "id": "92bcc22b",
      "metadata": {
        "id": "92bcc22b",
        "lines_to_next_cell": 2
      },
      "outputs": [],
      "source": [
        "# @title Import MuJoCo, MJX, and Brax\n",
        "from datetime import datetime\n",
        "import functools\n",
        "import os\n",
        "import time\n",
        "\n",
        "from brax.training.agents.ppo import networks_vision as ppo_networks_vision\n",
        "from brax.training.agents.ppo import train as ppo\n",
        "from IPython.display import clear_output\n",
        "import jax\n",
        "from jax import numpy as jp\n",
        "from matplotlib import pyplot as plt\n",
        "import mediapy as media\n",
        "import numpy as np\n",
        "\n",
        "from mujoco_playground import wrapper\n",
        "\n",
        "np.set_printoptions(precision=3, suppress=True, linewidth=100)"
      ]
    },
    {
      "cell_type": "markdown",
      "id": "0902bd0d",
      "metadata": {
        "id": "0902bd0d"
      },
      "source": [
        "Now, let's load Mujoco Playground's JAX Cartpole re-implementation. While we're at it, we'll configure it for the upcoming training. Please note that calling `dm_control_suite.load` builds the rendering backend, taking around **3 minutes** on a T4 instance."
      ]
    },
    {
      "cell_type": "code",
      "execution_count": 7,
      "id": "743928b0",
      "metadata": {
        "id": "743928b0",
        "lines_to_next_cell": 2,
        "outputId": "1cabfe73-a744-404f-9b37-953aef90337e",
        "colab": {
          "base_uri": "https://localhost:8080/"
        }
      },
      "outputs": [
        {
          "output_type": "stream",
          "name": "stderr",
          "text": [
            "/content/modules/madrona_mjx/src/madrona_mjx/renderer.py:363: DeprecationWarning: register_custom_call_target is deprecated; use the JAX FFI instead (https://jax.readthedocs.io/en/latest/ffi.html)\n",
            "  xla_client.register_custom_call_target(\n",
            "/content/modules/madrona_mjx/src/madrona_mjx/renderer.py:431: DeprecationWarning: jax.core.Primitive is deprecated. Use jax.extend.core.Primitive instead, and see https://jax.readthedocs.io/en/latest/jax.extend.html for details.\n",
            "  _init_primitive = core.Primitive(init_custom_call_name)\n"
          ]
        }
      ],
      "source": [
        "from mujoco_playground import dm_control_suite\n",
        "\n",
        "\n",
        "num_envs = 512\n",
        "ctrl_dt = 0.04\n",
        "episode_length = int(3 / ctrl_dt)\n",
        "\n",
        "config_overrides = {\n",
        "    \"vision\": True,\n",
        "    \"vision_config.render_batch_size\": num_envs,\n",
        "    \"action_repeat\": 1,\n",
        "    \"ctrl_dt\": ctrl_dt,\n",
        "    \"episode_length\": episode_length,\n",
        "}\n",
        "\n",
        "env_name = \"CartpoleBalance\"\n",
        "env = dm_control_suite.load(\n",
        "    env_name, config_overrides=config_overrides\n",
        ")\n",
        "\n",
        "env = wrapper.wrap_for_brax_training(\n",
        "    env,\n",
        "    vision=True,\n",
        "    num_vision_envs=num_envs,\n",
        "    action_repeat=1,\n",
        "    episode_length=episode_length,\n",
        ")"
      ]
    },
    {
      "cell_type": "code",
      "execution_count": 8,
      "id": "c4d70a08",
      "metadata": {
        "id": "c4d70a08",
        "lines_to_next_cell": 2
      },
      "outputs": [],
      "source": [
        "jit_reset = jax.jit(env.reset)\n",
        "jit_step = jax.jit(env.step)"
      ]
    },
    {
      "cell_type": "markdown",
      "id": "7ab3a297",
      "metadata": {
        "id": "7ab3a297"
      },
      "source": [
        "## Balancing a Cartpole\n",
        "\n",
        "Now, let's train a pixels-to-torque policy to balance a cartpole. In [our implementation]((https://github.com/google-deepmind/mujoco_playground/blob/main/mujoco_playground/_src/dm_control_suite/cartpole.py)), we control the observation dimensionality while encouraging the agent to understand dynamics by setting the observations as grayscale images stacked across sequential timesteps."
      ]
    },
    {
      "cell_type": "markdown",
      "id": "59f3b3ac",
      "metadata": {
        "id": "59f3b3ac"
      },
      "source": [
        "#### Visualize the environment"
      ]
    },
    {
      "cell_type": "code",
      "execution_count": 9,
      "id": "6b1286e8",
      "metadata": {
        "colab": {
          "base_uri": "https://localhost:8080/",
          "height": 297
        },
        "id": "6b1286e8",
        "outputId": "91171354-bb65-4c43-a7ff-79524c559d77"
      },
      "outputs": [
        {
          "output_type": "stream",
          "name": "stderr",
          "text": [
            "100%|██████████| 76/76 [00:00<00:00, 306.92it/s]\n"
          ]
        },
        {
          "output_type": "display_data",
          "data": {
            "text/plain": [
              "<IPython.core.display.HTML object>"
            ],
            "text/html": [
              "<table class=\"show_videos\" style=\"border-spacing:0px;\"><tr><td style=\"padding:1px;\"><video controls width=\"256\" height=\"256\" style=\"object-fit:cover;\" loop autoplay muted>\n",
              "      <source src=\"data:video/mp4;base64,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\" type=\"video/mp4\"/>\n",
              "      This browser does not support the video tag.\n",
              "      </video></td><td style=\"padding:1px;\"><video controls width=\"256\" height=\"256\" style=\"object-fit:cover;\" loop autoplay muted>\n",
              "      <source src=\"data:video/mp4;base64,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\" type=\"video/mp4\"/>\n",
              "      This browser does not support the video tag.\n",
              "      </video></td></tr></table>"
            ]
          },
          "metadata": {}
        }
      ],
      "source": [
        "def unvmap(x):\n",
        "  return jax.tree.map(lambda y: y[0], x)\n",
        "\n",
        "\n",
        "state = jit_reset(jax.random.split(jax.random.PRNGKey(0), num_envs))\n",
        "rollout = [unvmap(state)]\n",
        "\n",
        "f = 0.2\n",
        "for i in range(episode_length):\n",
        "  action = []\n",
        "  for j in range(env.action_size):\n",
        "    action.append(\n",
        "        jp.sin(\n",
        "            unvmap(state).data.time * 2 * jp.pi * f\n",
        "            + j * 2 * jp.pi / env.action_size\n",
        "        )\n",
        "    )\n",
        "  action = jp.tile(jp.array(action), (num_envs, 1))\n",
        "  state = jit_step(state, action)\n",
        "  rollout.append(unvmap(state))\n",
        "\n",
        "frames = env.render(rollout, camera=\"fixed\", width=256, height=256)\n",
        "k = next(iter(rollout[0].obs.items()), None)[0]  # ex: pixels/view_0\n",
        "obs = [r.obs[k][..., 0] for r in rollout]  # visualise first channel\n",
        "\n",
        "media.show_videos([frames, obs], fps=1.0 / env.dt, height=256)"
      ]
    },
    {
      "cell_type": "markdown",
      "id": "686f6663",
      "metadata": {
        "id": "686f6663"
      },
      "source": [
        "#### Train\n",
        "Training the policy takes 4 minutes on a hosted T4 instance."
      ]
    },
    {
      "cell_type": "code",
      "execution_count": 10,
      "id": "06333cd4",
      "metadata": {
        "id": "06333cd4",
        "lines_to_next_cell": 2
      },
      "outputs": [],
      "source": [
        "from mujoco_playground.config import dm_control_suite_params\n",
        "\n",
        "# Load vision-specific PPO configuration tuned for CartpoleBalance\n",
        "ppo_params = dm_control_suite_params.brax_vision_ppo_config(env_name)\n",
        "ppo_params.episode_length = episode_length\n",
        "ppo_params.network_factory = ppo_networks_vision.make_ppo_networks_vision\n",
        "ppo_params['batch_size'] = 128\n",
        "ppo_params['num_envs'] = ppo_params['num_eval_envs'] = num_envs"
      ]
    },
    {
      "cell_type": "code",
      "execution_count": 11,
      "id": "2f419702",
      "metadata": {
        "id": "2f419702",
        "lines_to_next_cell": 2
      },
      "outputs": [],
      "source": [
        "x_data, y_data, y_dataerr = [], [], []\n",
        "times = [datetime.now()]\n",
        "\n",
        "\n",
        "def progress(num_steps, metrics):\n",
        "  clear_output(wait=True)\n",
        "\n",
        "  times.append(datetime.now())\n",
        "  x_data.append(num_steps)\n",
        "  y_data.append(metrics[\"eval/episode_reward\"])\n",
        "  y_dataerr.append(metrics[\"eval/episode_reward_std\"])\n",
        "\n",
        "  plt.xlim([0, ppo_params[\"num_timesteps\"] * 1.25])\n",
        "  plt.ylim([0, 100])\n",
        "  plt.xlabel(\"# environment steps\")\n",
        "  plt.ylabel(\"reward per episode\")\n",
        "  plt.title(f\"y={y_data[-1]:.3f}\")\n",
        "  plt.errorbar(x_data, y_data, yerr=y_dataerr, color=\"blue\")\n",
        "\n",
        "  display(plt.gcf())\n",
        "\n",
        "\n",
        "train_fn = functools.partial(\n",
        "    ppo.train, **dict(ppo_params), progress_fn=progress\n",
        ")"
      ]
    },
    {
      "cell_type": "code",
      "execution_count": 12,
      "id": "3fb88915",
      "metadata": {
        "colab": {
          "base_uri": "https://localhost:8080/",
          "height": 963
        },
        "id": "3fb88915",
        "outputId": "a3f0bab6-622f-4069-ecd9-ae3be27b042b"
      },
      "outputs": [
        {
          "output_type": "display_data",
          "data": {
            "text/plain": [
              "<Figure size 640x480 with 1 Axes>"
            ],
            "image/png": "[encoded data removed]"
          },
          "metadata": {}
        },
        {
          "output_type": "stream",
          "name": "stdout",
          "text": [
            "time to jit: 0:00:45.383314\n",
            "time to train: 0:04:05.166173\n"
          ]
        },
        {
          "output_type": "display_data",
          "data": {
            "text/plain": [
              "<Figure size 640x480 with 1 Axes>"
            ],
            "image/png": "[encoded data removed]"
          },
          "metadata": {}
        }
      ],
      "source": [
        "make_inference_fn, params, metrics = train_fn(environment=env)\n",
        "print(f\"time to jit: {times[1] - times[0]}\")\n",
        "print(f\"time to train: {times[-1] - times[1]}\")"
      ]
    },
    {
      "cell_type": "markdown",
      "id": "076c1ca1",
      "metadata": {
        "id": "076c1ca1"
      },
      "source": [
        "#### Visualize the Policy"
      ]
    },
    {
      "cell_type": "code",
      "execution_count": 13,
      "id": "0cd8dec1",
      "metadata": {
        "id": "0cd8dec1",
        "lines_to_next_cell": 2
      },
      "outputs": [],
      "source": [
        "jit_reset = jax.jit(env.reset)\n",
        "jit_step = jax.jit(env.step)\n",
        "jit_inference_fn = jax.jit(make_inference_fn(params, deterministic=True))"
      ]
    },
    {
      "cell_type": "code",
      "execution_count": null,
      "id": "64532268",
      "metadata": {
        "id": "64532268"
      },
      "outputs": [],
      "source": [
        "rng = jax.random.PRNGKey(42)\n",
        "rollout = []\n",
        "n_episodes = 1\n",
        "\n",
        "for _ in range(n_episodes):\n",
        "  key_rng = jax.random.split(rng, num_envs)\n",
        "  state = jit_reset(key_rng)\n",
        "  rollout.append(unvmap(state))\n",
        "  for i in range(episode_length):\n",
        "    act_rng, rng = jax.random.split(rng)\n",
        "    act_rng = jax.random.split(act_rng, num_envs)\n",
        "    ctrl, _ = jit_inference_fn(state.obs, act_rng)\n",
        "    state = jit_step(state, ctrl)\n",
        "    rollout.append(unvmap(state))\n",
        "\n",
        "render_every = 1\n",
        "frames = env.render(rollout[::render_every], camera=\"fixed\")\n",
        "rewards = [s.reward for s in rollout]\n",
        "media.show_video(frames, fps=1.0 / env.dt / render_every)\n",
        "\n",
        "plt.plot(np.convolve(rewards, np.ones(10) / 10, mode=\"valid\"))\n",
        "plt.xlabel(\"time step\")\n",
        "plt.ylabel(\"reward\")\n",
        "plt.show()"
      ]
    },
    {
      "cell_type": "markdown",
      "id": "eddb3fc3",
      "metadata": {
        "id": "eddb3fc3"
      },
      "source": [
        "🙌 Stay tuned for more hosted instances with Madrona-MJX rendering support!"
      ]
    }
  ],
  "metadata": {
    "accelerator": "GPU",
    "colab": {
      "gpuType": "T4",
      "provenance": []
    },
    "jupytext": {
      "cell_metadata_filter": "-all",
      "encoding": "# coding: utf-8",
      "executable": "/usr/bin/env python",
      "main_language": "python",
      "notebook_metadata_filter": "-all"
    },
    "kernelspec": {
      "display_name": "Python 3",
      "name": "python3"
    },
    "language_info": {
      "codemirror_mode": {
        "name": "ipython",
        "version": 3
      },
      "file_extension": ".py",
      "mimetype": "text/x-python",
      "name": "python",
      "nbconvert_exporter": "python",
      "pygments_lexer": "ipython3",
      "version": "3.10.16"
    }
  },
  "nbformat": 4,
  "nbformat_minor": 5
}