{
  "nbformat": 4,
  "nbformat_minor": 0,
  "metadata": {
    "colab": {
      "provenance": [],
      "toc_visible": true,
      "authorship_tag": "ABX9TyMvmYkhPq1A+BpD4KSx0CW5",
      "include_colab_link": true
    },
    "kernelspec": {
      "name": "python3",
      "display_name": "Python 3"
    },
    "language_info": {
      "name": "python"
    }
  },
  "cells": [
    {
      "cell_type": "markdown",
      "metadata": {
        "id": "view-in-github",
        "colab_type": "text"
      },
      "source": [
        "<a href=\"https://colab.research.google.com/github/EureXaAI/EurexaBook/blob/main/rl/EurexaBook_0402_01.ipynb\" target=\"_parent\"><img src=\"https://colab.research.google.com/assets/colab-badge.svg\" alt=\"Open In Colab\"/></a>"
      ]
    },
    {
      "cell_type": "code",
      "execution_count": 29,
      "metadata": {
        "id": "Cw6LsF-OITTo"
      },
      "outputs": [],
      "source": [
        "#@title 导入依赖包\n",
        "#@markdown ### 本代码研究如何用 brax 和 mujoco 搭建最简单的强化学习案例\n",
        "# JAX Imports:\n",
        "import jax\n",
        "import jax.numpy as jnp"
      ]
    },
    {
      "cell_type": "code",
      "source": [
        "#@title 模型公司\n",
        "xml_model = \"\"\"\n",
        "<mujoco model=\"inverted pendulum\">\n",
        "    <compiler inertiafromgeom=\"true\"/>\n",
        "\n",
        "    <default>\n",
        "        <joint armature=\"0\" damping=\"1\"/>\n",
        "        <geom contype=\"0\" conaffinity=\"0\" friction=\"1 0.1 0.1\"/>\n",
        "    </default>\n",
        "\n",
        "    <worldbody>\n",
        "        <light diffuse=\".5 .5 .5\" pos=\"0 0 3\" dir=\"0 0 -1\"/>\n",
        "        <geom name=\"rail\" type=\"capsule\"  size=\"0.02 1.5\" pos=\"0 0 0\" quat=\"1 0 1 0\" rgba=\"1 1 1 1\"/>\n",
        "        <body name=\"cart\" pos=\"0 0 0\">\n",
        "            <joint name=\"slider\" type=\"slide\" axis=\"1 0 0\" pos=\"0 0 0\" limited=\"true\" range=\"-1.5 1.5\"/>\n",
        "            <geom name=\"cart_geom\" pos=\"0 0 0\" quat=\"1 0 1 0\" size=\"0.1 0.1\" type=\"capsule\"/>\n",
        "            <body name=\"pole\" pos=\"0 0 0\">\n",
        "                <joint name=\"hinge\" type=\"hinge\" axis=\"0 1 0\" pos=\"0 0 0\"/>\n",
        "                <geom name=\"pole_geom\" type=\"capsule\" size=\"0.049 0.3\"  fromto=\"0 0 0 0.001 0 0.6\"/>\n",
        "            </body>\n",
        "        </body>\n",
        "    </worldbody>\n",
        "\n",
        "    <actuator>\n",
        "        <motor ctrllimited=\"true\" ctrlrange=\"-3 3\" gear=\"100\" joint=\"slider\" name=\"slide\"/>\n",
        "    </actuator>\n",
        "\n",
        "</mujoco>\n",
        "\"\"\""
      ],
      "metadata": {
        "id": "PL6UagmTaESz"
      },
      "execution_count": 18,
      "outputs": []
    },
    {
      "cell_type": "code",
      "source": [
        "#@title 初始化模型 { run: \"auto\" }\n",
        "# Brax Imports:\n",
        "from brax.mjx import pipeline\n",
        "from brax.io import mjcf, html\n",
        "\n",
        "# Load the MJCF model\n",
        "sys = mjcf.loads(xml_model)\n",
        "\n",
        "# Jitting the init and step functions for GPU acceleration\n",
        "init_fn = jax.jit(pipeline.init)\n",
        "step_fn = jax.jit(pipeline.step)\n",
        "\n",
        "# Initializing the state:\n",
        "state = init_fn(\n",
        "    sys=sys, q=sys.init_q, qd=jnp.zeros(sys.qd_size()),\n",
        ")"
      ],
      "metadata": {
        "id": "Av0DjQpTJU6n"
      },
      "execution_count": 19,
      "outputs": []
    },
    {
      "cell_type": "code",
      "source": [
        "#@title 执行模拟\n",
        "num_steps = 1000\n",
        "state_history = []\n",
        "ctrl = jnp.zeros(sys.act_size())\n",
        "for i in range(num_steps):\n",
        "    state = step_fn(sys, state, act=ctrl)\n",
        "    state_history.append(state)"
      ],
      "metadata": {
        "id": "lW1_PrLzaQDg"
      },
      "execution_count": 20,
      "outputs": []
    },
    {
      "cell_type": "code",
      "source": [
        "#@title 状态历史记录\n",
        "# MJX Backend Requires Contact Information even if it does not exist:\n",
        "state_history = list(map(lambda x: x.replace(contact=None), state_history))"
      ],
      "metadata": {
        "id": "kX8uMV3maU79"
      },
      "execution_count": 21,
      "outputs": []
    },
    {
      "cell_type": "code",
      "source": [
        "#@title 可视化\n",
        "from IPython.display import HTML\n",
        "\n",
        "HTML(\n",
        "    html.render(\n",
        "        sys=sys,\n",
        "        states=state_history,\n",
        "        height=480,\n",
        "        colab=True,\n",
        "    ),\n",
        ")"
      ],
      "metadata": {
        "colab": {
          "base_uri": "https://localhost:8080/",
          "height": 480
        },
        "id": "ReXbO_1-ac_c",
        "outputId": "5c3ec03e-08a0-4e05-b87b-c9b4ee5e1feb"
      },
      "execution_count": 30,
      "outputs": [
        {
          "output_type": "execute_result",
          "data": {
            "text/plain": [
              "<IPython.core.display.HTML object>"
            ],
            "text/html": [
              "<!DOCTYPE html>\n",
              "<html>\n",
              "\n",
              "  <head>\n",
              "    <title>Brax visualizer</title>\n",
              "    <link rel=\"shortcut icon\" type=\"image/x-icon\" href=\"/favicon.ico\">\n",
              "  </head>\n",
              "\n",
              "  <style>\n",
              "    body {\n",
              "      margin: 0;\n",
              "      padding: 0;\n",
              "    }\n",
              "\n",
              "    #brax-viewer {\n",
              "      height: 480px;\n",
              "      margin: 0;\n",
              "      padding: 0;\n",
              "    }\n",
              "  </style>\n",
              "  <script async src=\"https://unpkg.com/es-module-shims@1.6.3/dist/es-module-shims.js\"></script>\n",
              "\n",
              "  <script type=\"importmap\">\n",
              "    {\n",
              "      \"imports\": {\n",
              "        \"three\": \"https://unpkg.com/three@0.150.1/build/three.module.js\",\n",
              "        \"three/addons/\": \"https://unpkg.com/three@0.150.1/examples/jsm/\",\n",
              "        \"lilgui\": \"https://cdn.jsdelivr.net/npm/lil-gui@0.18.0/+esm\",\n",
              "        \"viewer\": \"https://cdn.jsdelivr.net/gh/google/brax@v0.12.1/brax/visualizer/js/viewer.js\"\n",
              "      }\n",
              "    }\n",
              "  </script>\n",
              "\n",
              "  <script src=\"https://unpkg.com/pako@2.1.0/dist/pako.min.js\"></script>\n",
              "\n",
              "  <script type=\"application/javascript\">\n",
              "  var system = \"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\";\n",
              "  // decode base64 (convert ascii to binary)\n",
              "  system = atob(system);\n",
              "  // convert binary string to character-number array\n",
              "  system = system.split('').map(function(x){return x.charCodeAt(0);});\n",
              "  // decompress\n",
              "  system = pako.inflate(system);\n",
              "  // convert gunzipped byteArray back to ascii string\n",
              "  system = new TextDecoder(\"utf-8\").decode(system);\n",
              "  // and load json\n",
              "  system = JSON.parse(system);\n",
              "  </script>\n",
              "\n",
              "  <body>\n",
              "\n",
              "    <div id=\"brax-viewer\"></div>\n",
              "\n",
              "    <script type=\"module\">\n",
              "      import {Viewer} from 'viewer';\n",
              "      const domElement = document.getElementById(\"brax-viewer\");\n",
              "      var viewer = new Viewer(domElement, system);\n",
              "    </script>\n",
              "\n",
              "  </body>\n",
              "\n",
              "</html>"
            ]
          },
          "metadata": {},
          "execution_count": 30
        }
      ]
    },
    {
      "cell_type": "code",
      "source": [
        "#@title 训练配置 1\n",
        "from brax.envs.base import PipelineEnv, State\n",
        "\n",
        "# Environment:\n",
        "class CartPole(PipelineEnv):\n",
        "    \"\"\" Environment for training Cart Pole balancing \"\"\"\n",
        "\n",
        "    def __init__(self, xml_model: str, backend: str = 'mjx', **kwargs):\n",
        "        # Initialize System:\n",
        "        sys = mjcf.loads(xml_model)\n",
        "        self.step_dt = 0.02\n",
        "        n_frames = kwargs.pop('n_frames', int(self.step_dt / sys.opt.timestep))\n",
        "        super().__init__(sys, backend=backend, n_frames=n_frames)\n",
        "\n",
        "    def reset(self, rng: jax.Array) -> State:\n",
        "        key, theta_key, qd_key = jax.random.split(rng, 3)\n",
        "\n",
        "        theta_init = jax.random.uniform(theta_key, (1,), minval=-0.1, maxval=0.1)[0]\n",
        "\n",
        "        # q structure: [x th]\n",
        "        q_init = jnp.array([0.0, theta_init])\n",
        "\n",
        "        # qd structure: [dx dth]\n",
        "        qd_init = jax.random.uniform(qd_key, (2,), minval=-0.1, maxval=0.1)\n",
        "\n",
        "        # Initialize State:\n",
        "        pipeline_state = self.pipeline_init(q_init, qd_init)\n",
        "\n",
        "        # Initialize Rewards:\n",
        "        reward, done = jnp.zeros(2)\n",
        "\n",
        "        # Get observation for RL Algorithm (Input to our neural net):\n",
        "        observation = self.get_observation(pipeline_state)\n",
        "\n",
        "        # Metrics:\n",
        "        metrics = {\n",
        "            'rewards': reward,\n",
        "            # 'observation': observation,\n",
        "        }\n",
        "\n",
        "        state = State(\n",
        "            pipeline_state=pipeline_state,\n",
        "            obs=observation,\n",
        "            reward=reward,\n",
        "            done=done,\n",
        "            metrics=metrics,\n",
        "        )\n",
        "\n",
        "        return state\n",
        "\n",
        "    def step(self, state: State, action: jax.Array) -> State:\n",
        "        # Forward Physics Step:\n",
        "        pipeline_state = self.pipeline_step(state.pipeline_state, action)\n",
        "\n",
        "        # Get Observation from new state:\n",
        "        observation = self.get_observation(pipeline_state)\n",
        "\n",
        "        # Extract States:\n",
        "        x, th = pipeline_state.q\n",
        "\n",
        "        # Terminate if outside the range of the rail and pendulum is past the rail:\n",
        "        outside_x = jnp.abs(x) > 1.0\n",
        "        outside_th = jnp.abs(th) > jnp.pi / 2\n",
        "        done = outside_x | outside_th\n",
        "        done = jnp.float32(done)\n",
        "\n",
        "        # Calculate Reward:\n",
        "        reward = jnp.cos(th)\n",
        "\n",
        "        metrics = {\n",
        "            'rewards': reward,\n",
        "            # 'observation': observation,\n",
        "        }\n",
        "        state.metrics.update(metrics)\n",
        "\n",
        "        # Update State object:\n",
        "        state = state.replace(\n",
        "            pipeline_state=pipeline_state, obs=observation, reward=reward, done=done,\n",
        "        )\n",
        "        return state\n",
        "\n",
        "    def get_observation(self, pipeline_state: State) -> jnp.ndarray:\n",
        "        # Observation: [x, th, dx, dth]\n",
        "        return jnp.concatenate([pipeline_state.q, pipeline_state.qd])\n"
      ],
      "metadata": {
        "id": "ZUJX37nvaz96"
      },
      "execution_count": 37,
      "outputs": []
    },
    {
      "cell_type": "code",
      "source": [
        "#@title 训练配置 2\n",
        "env = CartPole(xml_model=xml_model, backend='mjx')\n",
        "eval_env = CartPole(xml_model=xml_model, backend='mjx')\n",
        "\n",
        "def progress_fn(current_step, metrics):\n",
        "    if current_step > 0:\n",
        "        print(f'Step: {current_step} \\t Reward: Episode Reward: {metrics[\"eval/episode_reward\"]:.3f}')"
      ],
      "metadata": {
        "id": "dfrgBy7La26b"
      },
      "execution_count": 38,
      "outputs": []
    },
    {
      "cell_type": "code",
      "source": [
        "#@title 训练配置 3\n",
        "import functools\n",
        "\n",
        "from brax.training.agents.ppo import networks as ppo_networks\n",
        "from brax.training.agents.ppo import train as ppo\n",
        "\n",
        "make_networks_factory = functools.partial(\n",
        "    ppo_networks.make_ppo_networks,\n",
        "    policy_hidden_layer_sizes=(128, 128, 128, 128),\n",
        ")\n",
        "\n",
        "train_fn = functools.partial(\n",
        "    ppo.train,\n",
        "    num_timesteps=200_000,\n",
        "    num_evals=10,\n",
        "    episode_length=200,\n",
        "    num_envs=32,\n",
        "    num_eval_envs=4,\n",
        "    batch_size=32,\n",
        "    num_minibatches=4,\n",
        "    unroll_length=20,\n",
        "    num_updates_per_batch=4,\n",
        "    normalize_observations=True,\n",
        "    discounting=0.97,\n",
        "    learning_rate=3.0e-4,\n",
        "    entropy_cost=1e-2,\n",
        "    network_factory=make_networks_factory,\n",
        "    seed=0,\n",
        ")\n"
      ],
      "metadata": {
        "id": "QEiWAqIFa6fa"
      },
      "execution_count": 39,
      "outputs": []
    },
    {
      "cell_type": "code",
      "source": [
        "#@title 执行训练\n",
        "make_policy_fn, params, _ = train_fn(\n",
        "    environment=env,\n",
        "    progress_fn=progress_fn,\n",
        "    eval_env=eval_env,\n",
        ")"
      ],
      "metadata": {
        "colab": {
          "base_uri": "https://localhost:8080/"
        },
        "id": "C7DdBNi7a-pe",
        "outputId": "4ea21e77-2b8a-424c-b65c-48b6c73b01ed"
      },
      "execution_count": 40,
      "outputs": [
        {
          "output_type": "stream",
          "name": "stdout",
          "text": [
            "Step: 23040 \t Reward: Episode Reward: 74.832\n",
            "Step: 46080 \t Reward: Episode Reward: 199.880\n",
            "Step: 69120 \t Reward: Episode Reward: 199.953\n",
            "Step: 92160 \t Reward: Episode Reward: 199.948\n",
            "Step: 115200 \t Reward: Episode Reward: 199.974\n",
            "Step: 138240 \t Reward: Episode Reward: 199.985\n",
            "Step: 161280 \t Reward: Episode Reward: 199.987\n",
            "Step: 184320 \t Reward: Episode Reward: 199.980\n",
            "Step: 207360 \t Reward: Episode Reward: 199.976\n"
          ]
        }
      ]
    },
    {
      "cell_type": "code",
      "source": [
        "#@title 策略加载\n",
        "# 把 params 也就是训练好的网络参数 装载 到了 policy 网络中\n",
        "policy_fn = make_policy_fn(params)\n",
        "# 将 policy_fn 编译成更快的版本, 后续调用时会极大加速推理速度\n",
        "policy_fn = jax.jit(policy_fn)"
      ],
      "metadata": {
        "id": "UlSVDJeAfg2e"
      },
      "execution_count": 41,
      "outputs": []
    },
    {
      "cell_type": "code",
      "source": [
        "#@title 策略推理\n",
        "env = CartPole(xml_model=xml_model, backend='mjx')\n",
        "\n",
        "reset_fn = jax.jit(env.reset)\n",
        "step_fn = jax.jit(env.step)\n",
        "\n",
        "key = jax.random.key(42)\n",
        "state = reset_fn(key)\n",
        "\n",
        "state_history = []\n",
        "num_steps = 200\n",
        "for i in range(num_steps):\n",
        "    key, subkey = jax.random.split(key)\n",
        "    action, _ = policy_fn(state.obs, subkey)\n",
        "    state = step_fn(state, action)\n",
        "    state_history.append(state.pipeline_state)"
      ],
      "metadata": {
        "id": "lHU3hvAlgv5E"
      },
      "execution_count": 42,
      "outputs": []
    },
    {
      "cell_type": "code",
      "source": [
        "#@title 构建历史记录\n",
        "# MJX Backend Requires Contact Information even if it does not exist:\n",
        "state_history = list(map(lambda x: x.replace(contact=None), state_history))"
      ],
      "metadata": {
        "id": "jFIlUsoHgy0Z"
      },
      "execution_count": 43,
      "outputs": []
    },
    {
      "cell_type": "code",
      "source": [
        "#@title 渲染历史记录\n",
        "HTML(\n",
        "    html.render(\n",
        "        sys=env.sys.tree_replace({'opt.timestep': env.dt}),\n",
        "        states=state_history,\n",
        "        height=480,\n",
        "        colab=True,\n",
        "    ),\n",
        ")"
      ],
      "metadata": {
        "colab": {
          "base_uri": "https://localhost:8080/",
          "height": 480
        },
        "id": "fbjU97vjgzso",
        "outputId": "082f5c5b-91e1-45f6-f3f9-cd7565c73611"
      },
      "execution_count": 44,
      "outputs": [
        {
          "output_type": "execute_result",
          "data": {
            "text/plain": [
              "<IPython.core.display.HTML object>"
            ],
            "text/html": [
              "<!DOCTYPE html>\n",
              "<html>\n",
              "\n",
              "  <head>\n",
              "    <title>Brax visualizer</title>\n",
              "    <link rel=\"shortcut icon\" type=\"image/x-icon\" href=\"/favicon.ico\">\n",
              "  </head>\n",
              "\n",
              "  <style>\n",
              "    body {\n",
              "      margin: 0;\n",
              "      padding: 0;\n",
              "    }\n",
              "\n",
              "    #brax-viewer {\n",
              "      height: 480px;\n",
              "      margin: 0;\n",
              "      padding: 0;\n",
              "    }\n",
              "  </style>\n",
              "  <script async src=\"https://unpkg.com/es-module-shims@1.6.3/dist/es-module-shims.js\"></script>\n",
              "\n",
              "  <script type=\"importmap\">\n",
              "    {\n",
              "      \"imports\": {\n",
              "        \"three\": \"https://unpkg.com/three@0.150.1/build/three.module.js\",\n",
              "        \"three/addons/\": \"https://unpkg.com/three@0.150.1/examples/jsm/\",\n",
              "        \"lilgui\": \"https://cdn.jsdelivr.net/npm/lil-gui@0.18.0/+esm\",\n",
              "        \"viewer\": \"https://cdn.jsdelivr.net/gh/google/brax@v0.12.1/brax/visualizer/js/viewer.js\"\n",
              "      }\n",
              "    }\n",
              "  </script>\n",
              "\n",
              "  <script src=\"https://unpkg.com/pako@2.1.0/dist/pako.min.js\"></script>\n",
              "\n",
              "  <script type=\"application/javascript\">\n",
              "  var system = \"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\";\n",
              "  // decode base64 (convert ascii to binary)\n",
              "  system = atob(system);\n",
              "  // convert binary string to character-number array\n",
              "  system = system.split('').map(function(x){return x.charCodeAt(0);});\n",
              "  // decompress\n",
              "  system = pako.inflate(system);\n",
              "  // convert gunzipped byteArray back to ascii string\n",
              "  system = new TextDecoder(\"utf-8\").decode(system);\n",
              "  // and load json\n",
              "  system = JSON.parse(system);\n",
              "  </script>\n",
              "\n",
              "  <body>\n",
              "\n",
              "    <div id=\"brax-viewer\"></div>\n",
              "\n",
              "    <script type=\"module\">\n",
              "      import {Viewer} from 'viewer';\n",
              "      const domElement = document.getElementById(\"brax-viewer\");\n",
              "      var viewer = new Viewer(domElement, system);\n",
              "    </script>\n",
              "\n",
              "  </body>\n",
              "\n",
              "</html>"
            ]
          },
          "metadata": {},
          "execution_count": 44
        }
      ]
    }
  ]
}